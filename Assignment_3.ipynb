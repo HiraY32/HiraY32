{
  "nbformat": 4,
  "nbformat_minor": 0,
  "metadata": {
    "colab": {
      "name": "Assignment 3",
      "provenance": [],
      "collapsed_sections": [],
      "mount_file_id": "1y-XK-C1FfWWcNhWXDolTo23x_BSn7H9x",
      "authorship_tag": "ABX9TyOLcGuvxuuUDfc6PsnvYD4L",
      "include_colab_link": true
    },
    "kernelspec": {
      "name": "python3",
      "display_name": "Python 3"
    },
    "language_info": {
      "name": "python"
    }
  },
  "cells": [
    {
      "cell_type": "markdown",
      "metadata": {
        "id": "view-in-github",
        "colab_type": "text"
      },
      "source": [
        "<a href=\"https://colab.research.google.com/github/HiraY32/HiraY32/blob/main/Assignment_3.ipynb\" target=\"_parent\"><img src=\"https://colab.research.google.com/assets/colab-badge.svg\" alt=\"Open In Colab\"/></a>"
      ]
    },
    {
      "cell_type": "markdown",
      "source": [
        "Whenever we are going construct a VAR model we have to follow these steps \n",
        "1. Import pandas & numpy library for uploading & number reading in data table \n",
        "2. Import matplotlib for plotting the data \n",
        "3. Splitting the data into train(90%) & test(10%) & using the **train data for ADFULLER, VAR & VARMAX**\n",
        "4. Import ADFULLER for stationarity check\n",
        "5. Import VAR for VAR order selection or lag determination with AIC test\n",
        "6. Import VARMAX for constructing actual VAR model \n",
        "7. Use of VAR model for forecasting next (10% time)\n",
        "8. Comparing **test data with forecasted data** to see accuracy of predictability of VAR model"
      ],
      "metadata": {
        "id": "JA_IOfBKDQzD"
      }
    },
    {
      "cell_type": "markdown",
      "source": [
        "1. Importing library pandas & numpy for numbers & for uploading data table"
      ],
      "metadata": {
        "id": "jp1kCVbvQCU9"
      }
    },
    {
      "cell_type": "code",
      "source": [
        "import pandas as pd"
      ],
      "metadata": {
        "id": "D2jrsYi6QTRx"
      },
      "execution_count": null,
      "outputs": []
    },
    {
      "cell_type": "code",
      "source": [
        "import numpy as np"
      ],
      "metadata": {
        "id": "579dGnMIQWqB"
      },
      "execution_count": null,
      "outputs": []
    },
    {
      "cell_type": "code",
      "source": [
        "filepath='/content/drive/MyDrive/Colab Notebooks/Assignment 3.csv'"
      ],
      "metadata": {
        "id": "VBz94PLGQdfi"
      },
      "execution_count": null,
      "outputs": []
    },
    {
      "cell_type": "code",
      "source": [
        "macro_data=pd.read_csv(filepath)"
      ],
      "metadata": {
        "id": "p3xaP6Q_Qn2g"
      },
      "execution_count": null,
      "outputs": []
    },
    {
      "cell_type": "code",
      "source": [
        "macro_data.head()"
      ],
      "metadata": {
        "colab": {
          "base_uri": "https://localhost:8080/",
          "height": 206
        },
        "id": "tDSq5pEHRCiP",
        "outputId": "c7d30636-0023-485a-d81a-ecff86d97576"
      },
      "execution_count": null,
      "outputs": [
        {
          "output_type": "execute_result",
          "data": {
            "text/plain": [
              "   Time      Y      X\n",
              "0  1969  51.53  12252\n",
              "1  1970  50.23  12516\n",
              "2  1971  54.63  12608\n",
              "3  1972  64.48  12861\n",
              "4  1973  51.82  13091"
            ],
            "text/html": [
              "\n",
              "  <div id=\"df-82692064-38d8-4c3e-b4fc-2c75d928be45\">\n",
              "    <div class=\"colab-df-container\">\n",
              "      <div>\n",
              "<style scoped>\n",
              "    .dataframe tbody tr th:only-of-type {\n",
              "        vertical-align: middle;\n",
              "    }\n",
              "\n",
              "    .dataframe tbody tr th {\n",
              "        vertical-align: top;\n",
              "    }\n",
              "\n",
              "    .dataframe thead th {\n",
              "        text-align: right;\n",
              "    }\n",
              "</style>\n",
              "<table border=\"1\" class=\"dataframe\">\n",
              "  <thead>\n",
              "    <tr style=\"text-align: right;\">\n",
              "      <th></th>\n",
              "      <th>Time</th>\n",
              "      <th>Y</th>\n",
              "      <th>X</th>\n",
              "    </tr>\n",
              "  </thead>\n",
              "  <tbody>\n",
              "    <tr>\n",
              "      <th>0</th>\n",
              "      <td>1969</td>\n",
              "      <td>51.53</td>\n",
              "      <td>12252</td>\n",
              "    </tr>\n",
              "    <tr>\n",
              "      <th>1</th>\n",
              "      <td>1970</td>\n",
              "      <td>50.23</td>\n",
              "      <td>12516</td>\n",
              "    </tr>\n",
              "    <tr>\n",
              "      <th>2</th>\n",
              "      <td>1971</td>\n",
              "      <td>54.63</td>\n",
              "      <td>12608</td>\n",
              "    </tr>\n",
              "    <tr>\n",
              "      <th>3</th>\n",
              "      <td>1972</td>\n",
              "      <td>64.48</td>\n",
              "      <td>12861</td>\n",
              "    </tr>\n",
              "    <tr>\n",
              "      <th>4</th>\n",
              "      <td>1973</td>\n",
              "      <td>51.82</td>\n",
              "      <td>13091</td>\n",
              "    </tr>\n",
              "  </tbody>\n",
              "</table>\n",
              "</div>\n",
              "      <button class=\"colab-df-convert\" onclick=\"convertToInteractive('df-82692064-38d8-4c3e-b4fc-2c75d928be45')\"\n",
              "              title=\"Convert this dataframe to an interactive table.\"\n",
              "              style=\"display:none;\">\n",
              "        \n",
              "  <svg xmlns=\"http://www.w3.org/2000/svg\" height=\"24px\"viewBox=\"0 0 24 24\"\n",
              "       width=\"24px\">\n",
              "    <path d=\"M0 0h24v24H0V0z\" fill=\"none\"/>\n",
              "    <path d=\"M18.56 5.44l.94 2.06.94-2.06 2.06-.94-2.06-.94-.94-2.06-.94 2.06-2.06.94zm-11 1L8.5 8.5l.94-2.06 2.06-.94-2.06-.94L8.5 2.5l-.94 2.06-2.06.94zm10 10l.94 2.06.94-2.06 2.06-.94-2.06-.94-.94-2.06-.94 2.06-2.06.94z\"/><path d=\"M17.41 7.96l-1.37-1.37c-.4-.4-.92-.59-1.43-.59-.52 0-1.04.2-1.43.59L10.3 9.45l-7.72 7.72c-.78.78-.78 2.05 0 2.83L4 21.41c.39.39.9.59 1.41.59.51 0 1.02-.2 1.41-.59l7.78-7.78 2.81-2.81c.8-.78.8-2.07 0-2.86zM5.41 20L4 18.59l7.72-7.72 1.47 1.35L5.41 20z\"/>\n",
              "  </svg>\n",
              "      </button>\n",
              "      \n",
              "  <style>\n",
              "    .colab-df-container {\n",
              "      display:flex;\n",
              "      flex-wrap:wrap;\n",
              "      gap: 12px;\n",
              "    }\n",
              "\n",
              "    .colab-df-convert {\n",
              "      background-color: #E8F0FE;\n",
              "      border: none;\n",
              "      border-radius: 50%;\n",
              "      cursor: pointer;\n",
              "      display: none;\n",
              "      fill: #1967D2;\n",
              "      height: 32px;\n",
              "      padding: 0 0 0 0;\n",
              "      width: 32px;\n",
              "    }\n",
              "\n",
              "    .colab-df-convert:hover {\n",
              "      background-color: #E2EBFA;\n",
              "      box-shadow: 0px 1px 2px rgba(60, 64, 67, 0.3), 0px 1px 3px 1px rgba(60, 64, 67, 0.15);\n",
              "      fill: #174EA6;\n",
              "    }\n",
              "\n",
              "    [theme=dark] .colab-df-convert {\n",
              "      background-color: #3B4455;\n",
              "      fill: #D2E3FC;\n",
              "    }\n",
              "\n",
              "    [theme=dark] .colab-df-convert:hover {\n",
              "      background-color: #434B5C;\n",
              "      box-shadow: 0px 1px 3px 1px rgba(0, 0, 0, 0.15);\n",
              "      filter: drop-shadow(0px 1px 2px rgba(0, 0, 0, 0.3));\n",
              "      fill: #FFFFFF;\n",
              "    }\n",
              "  </style>\n",
              "\n",
              "      <script>\n",
              "        const buttonEl =\n",
              "          document.querySelector('#df-82692064-38d8-4c3e-b4fc-2c75d928be45 button.colab-df-convert');\n",
              "        buttonEl.style.display =\n",
              "          google.colab.kernel.accessAllowed ? 'block' : 'none';\n",
              "\n",
              "        async function convertToInteractive(key) {\n",
              "          const element = document.querySelector('#df-82692064-38d8-4c3e-b4fc-2c75d928be45');\n",
              "          const dataTable =\n",
              "            await google.colab.kernel.invokeFunction('convertToInteractive',\n",
              "                                                     [key], {});\n",
              "          if (!dataTable) return;\n",
              "\n",
              "          const docLinkHtml = 'Like what you see? Visit the ' +\n",
              "            '<a target=\"_blank\" href=https://colab.research.google.com/notebooks/data_table.ipynb>data table notebook</a>'\n",
              "            + ' to learn more about interactive tables.';\n",
              "          element.innerHTML = '';\n",
              "          dataTable['output_type'] = 'display_data';\n",
              "          await google.colab.output.renderOutput(dataTable, element);\n",
              "          const docLink = document.createElement('div');\n",
              "          docLink.innerHTML = docLinkHtml;\n",
              "          element.appendChild(docLink);\n",
              "        }\n",
              "      </script>\n",
              "    </div>\n",
              "  </div>\n",
              "  "
            ]
          },
          "metadata": {},
          "execution_count": 6
        }
      ]
    },
    {
      "cell_type": "markdown",
      "source": [
        "2. Plotting the data table"
      ],
      "metadata": {
        "id": "5It3MAd9RL-j"
      }
    },
    {
      "cell_type": "code",
      "source": [
        "import matplotlib.pyplot as plt\n",
        "%matplotlib inline"
      ],
      "metadata": {
        "id": "C7MBvutMRSKX"
      },
      "execution_count": null,
      "outputs": []
    },
    {
      "cell_type": "code",
      "source": [
        "# Essentials for plotting \n",
        "fig,axes=plt.subplots(nrows=1,ncols=3,dpi=80,figsize=(10,2))"
      ],
      "metadata": {
        "colab": {
          "base_uri": "https://localhost:8080/",
          "height": 175
        },
        "id": "WDJ4g_4eRuxD",
        "outputId": "64ea7a88-4829-4728-c1f4-4800bfb5f821"
      },
      "execution_count": null,
      "outputs": [
        {
          "output_type": "display_data",
          "data": {
            "text/plain": [
              "<Figure size 800x160 with 3 Axes>"
            ],
            "image/png": "[encoded data removed]"
          },
          "metadata": {
            "needs_background": "light"
          }
        }
      ]
    },
    {
      "cell_type": "code",
      "source": [
        "fig,axes=plt.subplots(nrows=1,ncols=3,dpi=80,figsize=(10,2))\n",
        "for i,ax in enumerate(axes.flatten()):\n",
        " data=macro_data[macro_data.columns[i]]\n",
        " ax.plot(data,color='red',linewidth=1)"
      ],
      "metadata": {
        "colab": {
          "base_uri": "https://localhost:8080/",
          "height": 175
        },
        "id": "aTNeJ0woSW0v",
        "outputId": "e88c0a7c-8223-423d-b737-acb9d91f5294"
      },
      "execution_count": null,
      "outputs": [
        {
          "output_type": "display_data",
          "data": {
            "text/plain": [
              "<Figure size 800x160 with 3 Axes>"
            ],
            "image/png": "[encoded data removed]"
          },
          "metadata": {
            "needs_background": "light"
          }
        }
      ]
    },
    {
      "cell_type": "code",
      "source": [
        "fig,axes=plt.subplots(nrows=1,ncols=3,dpi=80,figsize=(10,2))\n",
        "for i,ax in enumerate(axes.flatten()):\n",
        " data=macro_data[macro_data.columns[i]]\n",
        " ax.plot(data,color='red',linewidth=1) \n",
        " ax.set_title(macro_data.columns[i])\n",
        "plt.tight_layout()"
      ],
      "metadata": {
        "id": "VpvFlpwGW52S",
        "colab": {
          "base_uri": "https://localhost:8080/",
          "height": 169
        },
        "outputId": "5097841f-8da8-478d-d5b5-0ad1531acffc"
      },
      "execution_count": null,
      "outputs": [
        {
          "output_type": "display_data",
          "data": {
            "text/plain": [
              "<Figure size 800x160 with 3 Axes>"
            ],
            "image/png": "[encoded data removed]"
          },
          "metadata": {
            "needs_background": "light"
          }
        }
      ]
    },
    {
      "cell_type": "code",
      "source": [
        "fig,axes=plt.subplots(nrows=1,ncols=3,dpi=80,figsize=(10,2))\n",
        "for i,ax in enumerate(axes.flatten()):\n",
        " data=macro_data[macro_data.columns[i]]\n",
        " ax.plot(data,color='red',linewidth=1)\n",
        " ax.set_title(macro_data.columns[i]) \n",
        " ax.xaxis.set_ticks_position('none') \n",
        " ax.yaxis.set_ticks_position('none') \n",
        "plt.tight_layout()"
      ],
      "metadata": {
        "colab": {
          "base_uri": "https://localhost:8080/",
          "height": 169
        },
        "id": "-E2U4ObJX6dD",
        "outputId": "75c30104-f6a0-42e6-f47d-3f13e08a6ef1"
      },
      "execution_count": null,
      "outputs": [
        {
          "output_type": "display_data",
          "data": {
            "text/plain": [
              "<Figure size 800x160 with 3 Axes>"
            ],
            "image/png": "[encoded data removed]"
          },
          "metadata": {
            "needs_background": "light"
          }
        }
      ]
    },
    {
      "cell_type": "code",
      "source": [
        "fig,axes=plt.subplots(nrows=1,ncols=3,dpi=80,figsize=(10,2))\n",
        "for i,ax in enumerate(axes.flatten()):\n",
        " data=macro_data[macro_data.columns[i]]\n",
        " ax.plot(data,color='red',linewidth=1)\n",
        " ax.set_title(macro_data.columns[i])\n",
        " ax.xaxis.set_ticks_position('none')\n",
        " ax.yaxis.set_ticks_position('none')\n",
        " ax.spines[\"top\"].set_alpha(0)\n",
        "\n",
        "\n",
        "\n",
        "plt.tight_layout()"
      ],
      "metadata": {
        "colab": {
          "base_uri": "https://localhost:8080/",
          "height": 169
        },
        "id": "Glmq0vIxYxJG",
        "outputId": "d8be98e2-361a-4bc6-df51-62acd01e4efa"
      },
      "execution_count": null,
      "outputs": [
        {
          "output_type": "display_data",
          "data": {
            "text/plain": [
              "<Figure size 800x160 with 3 Axes>"
            ],
            "image/png": "[encoded data removed]"
          },
          "metadata": {
            "needs_background": "light"
          }
        }
      ]
    },
    {
      "cell_type": "code",
      "source": [
        "fig,axes=plt.subplots(nrows=1,ncols=3,dpi=80,figsize=(10,2))\n",
        "for i,ax in enumerate(axes.flatten()):\n",
        " data=macro_data[macro_data.columns[i]]\n",
        " ax.plot(data,color='red',linewidth=1)\n",
        " ax.set_title(macro_data.columns[i])\n",
        " ax.xaxis.set_ticks_position('none')\n",
        " ax.yaxis.set_ticks_position('none')\n",
        " ax.spines[\"top\"].set_alpha(0)\n",
        " ax.tick_params(labelsize=8)\n",
        "\n",
        "\n",
        "\n",
        "plt.tight_layout()"
      ],
      "metadata": {
        "colab": {
          "base_uri": "https://localhost:8080/",
          "height": 168
        },
        "id": "qmvGZPZSZM3P",
        "outputId": "f3dc3cf5-7b6b-4f0d-a021-c2fa175a74df"
      },
      "execution_count": null,
      "outputs": [
        {
          "output_type": "display_data",
          "data": {
            "text/plain": [
              "<Figure size 800x160 with 3 Axes>"
            ],
            "image/png": "[encoded data removed]"
          },
          "metadata": {
            "needs_background": "light"
          }
        }
      ]
    },
    {
      "cell_type": "markdown",
      "source": [
        "3. Splitting the data into train(90%) & test(10%) & using the **train data for ADFULLER, VAR & VARMAX**"
      ],
      "metadata": {
        "id": "zcgWlCuHlDB7"
      }
    },
    {
      "cell_type": "code",
      "source": [
        "macro_data"
      ],
      "metadata": {
        "colab": {
          "base_uri": "https://localhost:8080/",
          "height": 802
        },
        "id": "0SsdybfYliHY",
        "outputId": "41b1f3f4-89c2-4bae-dd43-886793c709a5"
      },
      "execution_count": null,
      "outputs": [
        {
          "output_type": "execute_result",
          "data": {
            "text/plain": [
              "    Time       Y      X\n",
              "0   1969   51.53  12252\n",
              "1   1970   50.23  12516\n",
              "2   1971   54.63  12608\n",
              "3   1972   64.48  12861\n",
              "4   1973   51.82  13091\n",
              "5   1974   36.13  13284\n",
              "6   1975   47.64  13496\n",
              "7   1976   57.88  13717\n",
              "8   1977   52.50  13942\n",
              "9   1978   53.62  14184\n",
              "10  1979   61.75  14471\n",
              "11  1980   77.86  14738\n",
              "12  1981   71.11  14988\n",
              "13  1982   81.03  15189\n",
              "14  1983   95.18  15417\n",
              "15  1984   96.38  15599\n",
              "16  1985  121.58  15837\n",
              "17  1986  138.58  16117\n",
              "18  1987  138.23  16361\n",
              "19  1988  156.26  16587\n",
              "20  1989  195.01  16806\n",
              "21  1990  180.49  16993\n",
              "22  1991  229.44  17190\n",
              "23  1992  240.21  17405"
            ],
            "text/html": [
              "\n",
              "  <div id=\"df-8b9b1112-e9ed-49b5-8005-c7f9de1b5054\">\n",
              "    <div class=\"colab-df-container\">\n",
              "      <div>\n",
              "<style scoped>\n",
              "    .dataframe tbody tr th:only-of-type {\n",
              "        vertical-align: middle;\n",
              "    }\n",
              "\n",
              "    .dataframe tbody tr th {\n",
              "        vertical-align: top;\n",
              "    }\n",
              "\n",
              "    .dataframe thead th {\n",
              "        text-align: right;\n",
              "    }\n",
              "</style>\n",
              "<table border=\"1\" class=\"dataframe\">\n",
              "  <thead>\n",
              "    <tr style=\"text-align: right;\">\n",
              "      <th></th>\n",
              "      <th>Time</th>\n",
              "      <th>Y</th>\n",
              "      <th>X</th>\n",
              "    </tr>\n",
              "  </thead>\n",
              "  <tbody>\n",
              "    <tr>\n",
              "      <th>0</th>\n",
              "      <td>1969</td>\n",
              "      <td>51.53</td>\n",
              "      <td>12252</td>\n",
              "    </tr>\n",
              "    <tr>\n",
              "      <th>1</th>\n",
              "      <td>1970</td>\n",
              "      <td>50.23</td>\n",
              "      <td>12516</td>\n",
              "    </tr>\n",
              "    <tr>\n",
              "      <th>2</th>\n",
              "      <td>1971</td>\n",
              "      <td>54.63</td>\n",
              "      <td>12608</td>\n",
              "    </tr>\n",
              "    <tr>\n",
              "      <th>3</th>\n",
              "      <td>1972</td>\n",
              "      <td>64.48</td>\n",
              "      <td>12861</td>\n",
              "    </tr>\n",
              "    <tr>\n",
              "      <th>4</th>\n",
              "      <td>1973</td>\n",
              "      <td>51.82</td>\n",
              "      <td>13091</td>\n",
              "    </tr>\n",
              "    <tr>\n",
              "      <th>5</th>\n",
              "      <td>1974</td>\n",
              "      <td>36.13</td>\n",
              "      <td>13284</td>\n",
              "    </tr>\n",
              "    <tr>\n",
              "      <th>6</th>\n",
              "      <td>1975</td>\n",
              "      <td>47.64</td>\n",
              "      <td>13496</td>\n",
              "    </tr>\n",
              "    <tr>\n",
              "      <th>7</th>\n",
              "      <td>1976</td>\n",
              "      <td>57.88</td>\n",
              "      <td>13717</td>\n",
              "    </tr>\n",
              "    <tr>\n",
              "      <th>8</th>\n",
              "      <td>1977</td>\n",
              "      <td>52.50</td>\n",
              "      <td>13942</td>\n",
              "    </tr>\n",
              "    <tr>\n",
              "      <th>9</th>\n",
              "      <td>1978</td>\n",
              "      <td>53.62</td>\n",
              "      <td>14184</td>\n",
              "    </tr>\n",
              "    <tr>\n",
              "      <th>10</th>\n",
              "      <td>1979</td>\n",
              "      <td>61.75</td>\n",
              "      <td>14471</td>\n",
              "    </tr>\n",
              "    <tr>\n",
              "      <th>11</th>\n",
              "      <td>1980</td>\n",
              "      <td>77.86</td>\n",
              "      <td>14738</td>\n",
              "    </tr>\n",
              "    <tr>\n",
              "      <th>12</th>\n",
              "      <td>1981</td>\n",
              "      <td>71.11</td>\n",
              "      <td>14988</td>\n",
              "    </tr>\n",
              "    <tr>\n",
              "      <th>13</th>\n",
              "      <td>1982</td>\n",
              "      <td>81.03</td>\n",
              "      <td>15189</td>\n",
              "    </tr>\n",
              "    <tr>\n",
              "      <th>14</th>\n",
              "      <td>1983</td>\n",
              "      <td>95.18</td>\n",
              "      <td>15417</td>\n",
              "    </tr>\n",
              "    <tr>\n",
              "      <th>15</th>\n",
              "      <td>1984</td>\n",
              "      <td>96.38</td>\n",
              "      <td>15599</td>\n",
              "    </tr>\n",
              "    <tr>\n",
              "      <th>16</th>\n",
              "      <td>1985</td>\n",
              "      <td>121.58</td>\n",
              "      <td>15837</td>\n",
              "    </tr>\n",
              "    <tr>\n",
              "      <th>17</th>\n",
              "      <td>1986</td>\n",
              "      <td>138.58</td>\n",
              "      <td>16117</td>\n",
              "    </tr>\n",
              "    <tr>\n",
              "      <th>18</th>\n",
              "      <td>1987</td>\n",
              "      <td>138.23</td>\n",
              "      <td>16361</td>\n",
              "    </tr>\n",
              "    <tr>\n",
              "      <th>19</th>\n",
              "      <td>1988</td>\n",
              "      <td>156.26</td>\n",
              "      <td>16587</td>\n",
              "    </tr>\n",
              "    <tr>\n",
              "      <th>20</th>\n",
              "      <td>1989</td>\n",
              "      <td>195.01</td>\n",
              "      <td>16806</td>\n",
              "    </tr>\n",
              "    <tr>\n",
              "      <th>21</th>\n",
              "      <td>1990</td>\n",
              "      <td>180.49</td>\n",
              "      <td>16993</td>\n",
              "    </tr>\n",
              "    <tr>\n",
              "      <th>22</th>\n",
              "      <td>1991</td>\n",
              "      <td>229.44</td>\n",
              "      <td>17190</td>\n",
              "    </tr>\n",
              "    <tr>\n",
              "      <th>23</th>\n",
              "      <td>1992</td>\n",
              "      <td>240.21</td>\n",
              "      <td>17405</td>\n",
              "    </tr>\n",
              "  </tbody>\n",
              "</table>\n",
              "</div>\n",
              "      <button class=\"colab-df-convert\" onclick=\"convertToInteractive('df-8b9b1112-e9ed-49b5-8005-c7f9de1b5054')\"\n",
              "              title=\"Convert this dataframe to an interactive table.\"\n",
              "              style=\"display:none;\">\n",
              "        \n",
              "  <svg xmlns=\"http://www.w3.org/2000/svg\" height=\"24px\"viewBox=\"0 0 24 24\"\n",
              "       width=\"24px\">\n",
              "    <path d=\"M0 0h24v24H0V0z\" fill=\"none\"/>\n",
              "    <path d=\"M18.56 5.44l.94 2.06.94-2.06 2.06-.94-2.06-.94-.94-2.06-.94 2.06-2.06.94zm-11 1L8.5 8.5l.94-2.06 2.06-.94-2.06-.94L8.5 2.5l-.94 2.06-2.06.94zm10 10l.94 2.06.94-2.06 2.06-.94-2.06-.94-.94-2.06-.94 2.06-2.06.94z\"/><path d=\"M17.41 7.96l-1.37-1.37c-.4-.4-.92-.59-1.43-.59-.52 0-1.04.2-1.43.59L10.3 9.45l-7.72 7.72c-.78.78-.78 2.05 0 2.83L4 21.41c.39.39.9.59 1.41.59.51 0 1.02-.2 1.41-.59l7.78-7.78 2.81-2.81c.8-.78.8-2.07 0-2.86zM5.41 20L4 18.59l7.72-7.72 1.47 1.35L5.41 20z\"/>\n",
              "  </svg>\n",
              "      </button>\n",
              "      \n",
              "  <style>\n",
              "    .colab-df-container {\n",
              "      display:flex;\n",
              "      flex-wrap:wrap;\n",
              "      gap: 12px;\n",
              "    }\n",
              "\n",
              "    .colab-df-convert {\n",
              "      background-color: #E8F0FE;\n",
              "      border: none;\n",
              "      border-radius: 50%;\n",
              "      cursor: pointer;\n",
              "      display: none;\n",
              "      fill: #1967D2;\n",
              "      height: 32px;\n",
              "      padding: 0 0 0 0;\n",
              "      width: 32px;\n",
              "    }\n",
              "\n",
              "    .colab-df-convert:hover {\n",
              "      background-color: #E2EBFA;\n",
              "      box-shadow: 0px 1px 2px rgba(60, 64, 67, 0.3), 0px 1px 3px 1px rgba(60, 64, 67, 0.15);\n",
              "      fill: #174EA6;\n",
              "    }\n",
              "\n",
              "    [theme=dark] .colab-df-convert {\n",
              "      background-color: #3B4455;\n",
              "      fill: #D2E3FC;\n",
              "    }\n",
              "\n",
              "    [theme=dark] .colab-df-convert:hover {\n",
              "      background-color: #434B5C;\n",
              "      box-shadow: 0px 1px 3px 1px rgba(0, 0, 0, 0.15);\n",
              "      filter: drop-shadow(0px 1px 2px rgba(0, 0, 0, 0.3));\n",
              "      fill: #FFFFFF;\n",
              "    }\n",
              "  </style>\n",
              "\n",
              "      <script>\n",
              "        const buttonEl =\n",
              "          document.querySelector('#df-8b9b1112-e9ed-49b5-8005-c7f9de1b5054 button.colab-df-convert');\n",
              "        buttonEl.style.display =\n",
              "          google.colab.kernel.accessAllowed ? 'block' : 'none';\n",
              "\n",
              "        async function convertToInteractive(key) {\n",
              "          const element = document.querySelector('#df-8b9b1112-e9ed-49b5-8005-c7f9de1b5054');\n",
              "          const dataTable =\n",
              "            await google.colab.kernel.invokeFunction('convertToInteractive',\n",
              "                                                     [key], {});\n",
              "          if (!dataTable) return;\n",
              "\n",
              "          const docLinkHtml = 'Like what you see? Visit the ' +\n",
              "            '<a target=\"_blank\" href=https://colab.research.google.com/notebooks/data_table.ipynb>data table notebook</a>'\n",
              "            + ' to learn more about interactive tables.';\n",
              "          element.innerHTML = '';\n",
              "          dataTable['output_type'] = 'display_data';\n",
              "          await google.colab.output.renderOutput(dataTable, element);\n",
              "          const docLink = document.createElement('div');\n",
              "          docLink.innerHTML = docLinkHtml;\n",
              "          element.appendChild(docLink);\n",
              "        }\n",
              "      </script>\n",
              "    </div>\n",
              "  </div>\n",
              "  "
            ]
          },
          "metadata": {},
          "execution_count": 14
        }
      ]
    },
    {
      "cell_type": "code",
      "source": [
        "train_dt=macro_data[0:-12].dropna()\n",
        "test_dt=macro_data[-12:].dropna()"
      ],
      "metadata": {
        "id": "9x-brfCjloSp"
      },
      "execution_count": null,
      "outputs": []
    },
    {
      "cell_type": "code",
      "source": [
        "train_dt.tail()"
      ],
      "metadata": {
        "colab": {
          "base_uri": "https://localhost:8080/",
          "height": 206
        },
        "id": "e4NHQevamB6l",
        "outputId": "317ed354-f44c-43b6-afe2-d4a5444b82ad"
      },
      "execution_count": null,
      "outputs": [
        {
          "output_type": "execute_result",
          "data": {
            "text/plain": [
              "    Time      Y      X\n",
              "7   1976  57.88  13717\n",
              "8   1977  52.50  13942\n",
              "9   1978  53.62  14184\n",
              "10  1979  61.75  14471\n",
              "11  1980  77.86  14738"
            ],
            "text/html": [
              "\n",
              "  <div id=\"df-38a99b94-b257-4938-9d25-ce50bb5aaedf\">\n",
              "    <div class=\"colab-df-container\">\n",
              "      <div>\n",
              "<style scoped>\n",
              "    .dataframe tbody tr th:only-of-type {\n",
              "        vertical-align: middle;\n",
              "    }\n",
              "\n",
              "    .dataframe tbody tr th {\n",
              "        vertical-align: top;\n",
              "    }\n",
              "\n",
              "    .dataframe thead th {\n",
              "        text-align: right;\n",
              "    }\n",
              "</style>\n",
              "<table border=\"1\" class=\"dataframe\">\n",
              "  <thead>\n",
              "    <tr style=\"text-align: right;\">\n",
              "      <th></th>\n",
              "      <th>Time</th>\n",
              "      <th>Y</th>\n",
              "      <th>X</th>\n",
              "    </tr>\n",
              "  </thead>\n",
              "  <tbody>\n",
              "    <tr>\n",
              "      <th>7</th>\n",
              "      <td>1976</td>\n",
              "      <td>57.88</td>\n",
              "      <td>13717</td>\n",
              "    </tr>\n",
              "    <tr>\n",
              "      <th>8</th>\n",
              "      <td>1977</td>\n",
              "      <td>52.50</td>\n",
              "      <td>13942</td>\n",
              "    </tr>\n",
              "    <tr>\n",
              "      <th>9</th>\n",
              "      <td>1978</td>\n",
              "      <td>53.62</td>\n",
              "      <td>14184</td>\n",
              "    </tr>\n",
              "    <tr>\n",
              "      <th>10</th>\n",
              "      <td>1979</td>\n",
              "      <td>61.75</td>\n",
              "      <td>14471</td>\n",
              "    </tr>\n",
              "    <tr>\n",
              "      <th>11</th>\n",
              "      <td>1980</td>\n",
              "      <td>77.86</td>\n",
              "      <td>14738</td>\n",
              "    </tr>\n",
              "  </tbody>\n",
              "</table>\n",
              "</div>\n",
              "      <button class=\"colab-df-convert\" onclick=\"convertToInteractive('df-38a99b94-b257-4938-9d25-ce50bb5aaedf')\"\n",
              "              title=\"Convert this dataframe to an interactive table.\"\n",
              "              style=\"display:none;\">\n",
              "        \n",
              "  <svg xmlns=\"http://www.w3.org/2000/svg\" height=\"24px\"viewBox=\"0 0 24 24\"\n",
              "       width=\"24px\">\n",
              "    <path d=\"M0 0h24v24H0V0z\" fill=\"none\"/>\n",
              "    <path d=\"M18.56 5.44l.94 2.06.94-2.06 2.06-.94-2.06-.94-.94-2.06-.94 2.06-2.06.94zm-11 1L8.5 8.5l.94-2.06 2.06-.94-2.06-.94L8.5 2.5l-.94 2.06-2.06.94zm10 10l.94 2.06.94-2.06 2.06-.94-2.06-.94-.94-2.06-.94 2.06-2.06.94z\"/><path d=\"M17.41 7.96l-1.37-1.37c-.4-.4-.92-.59-1.43-.59-.52 0-1.04.2-1.43.59L10.3 9.45l-7.72 7.72c-.78.78-.78 2.05 0 2.83L4 21.41c.39.39.9.59 1.41.59.51 0 1.02-.2 1.41-.59l7.78-7.78 2.81-2.81c.8-.78.8-2.07 0-2.86zM5.41 20L4 18.59l7.72-7.72 1.47 1.35L5.41 20z\"/>\n",
              "  </svg>\n",
              "      </button>\n",
              "      \n",
              "  <style>\n",
              "    .colab-df-container {\n",
              "      display:flex;\n",
              "      flex-wrap:wrap;\n",
              "      gap: 12px;\n",
              "    }\n",
              "\n",
              "    .colab-df-convert {\n",
              "      background-color: #E8F0FE;\n",
              "      border: none;\n",
              "      border-radius: 50%;\n",
              "      cursor: pointer;\n",
              "      display: none;\n",
              "      fill: #1967D2;\n",
              "      height: 32px;\n",
              "      padding: 0 0 0 0;\n",
              "      width: 32px;\n",
              "    }\n",
              "\n",
              "    .colab-df-convert:hover {\n",
              "      background-color: #E2EBFA;\n",
              "      box-shadow: 0px 1px 2px rgba(60, 64, 67, 0.3), 0px 1px 3px 1px rgba(60, 64, 67, 0.15);\n",
              "      fill: #174EA6;\n",
              "    }\n",
              "\n",
              "    [theme=dark] .colab-df-convert {\n",
              "      background-color: #3B4455;\n",
              "      fill: #D2E3FC;\n",
              "    }\n",
              "\n",
              "    [theme=dark] .colab-df-convert:hover {\n",
              "      background-color: #434B5C;\n",
              "      box-shadow: 0px 1px 3px 1px rgba(0, 0, 0, 0.15);\n",
              "      filter: drop-shadow(0px 1px 2px rgba(0, 0, 0, 0.3));\n",
              "      fill: #FFFFFF;\n",
              "    }\n",
              "  </style>\n",
              "\n",
              "      <script>\n",
              "        const buttonEl =\n",
              "          document.querySelector('#df-38a99b94-b257-4938-9d25-ce50bb5aaedf button.colab-df-convert');\n",
              "        buttonEl.style.display =\n",
              "          google.colab.kernel.accessAllowed ? 'block' : 'none';\n",
              "\n",
              "        async function convertToInteractive(key) {\n",
              "          const element = document.querySelector('#df-38a99b94-b257-4938-9d25-ce50bb5aaedf');\n",
              "          const dataTable =\n",
              "            await google.colab.kernel.invokeFunction('convertToInteractive',\n",
              "                                                     [key], {});\n",
              "          if (!dataTable) return;\n",
              "\n",
              "          const docLinkHtml = 'Like what you see? Visit the ' +\n",
              "            '<a target=\"_blank\" href=https://colab.research.google.com/notebooks/data_table.ipynb>data table notebook</a>'\n",
              "            + ' to learn more about interactive tables.';\n",
              "          element.innerHTML = '';\n",
              "          dataTable['output_type'] = 'display_data';\n",
              "          await google.colab.output.renderOutput(dataTable, element);\n",
              "          const docLink = document.createElement('div');\n",
              "          docLink.innerHTML = docLinkHtml;\n",
              "          element.appendChild(docLink);\n",
              "        }\n",
              "      </script>\n",
              "    </div>\n",
              "  </div>\n",
              "  "
            ]
          },
          "metadata": {},
          "execution_count": 16
        }
      ]
    },
    {
      "cell_type": "code",
      "source": [
        "test_dt"
      ],
      "metadata": {
        "colab": {
          "base_uri": "https://localhost:8080/",
          "height": 426
        },
        "id": "6HIM0_bUmLEQ",
        "outputId": "40d76aa8-ea91-4ad5-d608-ab29e1f370cc"
      },
      "execution_count": null,
      "outputs": [
        {
          "output_type": "execute_result",
          "data": {
            "text/plain": [
              "    Time       Y      X\n",
              "12  1981   71.11  14988\n",
              "13  1982   81.03  15189\n",
              "14  1983   95.18  15417\n",
              "15  1984   96.38  15599\n",
              "16  1985  121.58  15837\n",
              "17  1986  138.58  16117\n",
              "18  1987  138.23  16361\n",
              "19  1988  156.26  16587\n",
              "20  1989  195.01  16806\n",
              "21  1990  180.49  16993\n",
              "22  1991  229.44  17190\n",
              "23  1992  240.21  17405"
            ],
            "text/html": [
              "\n",
              "  <div id=\"df-33b54268-8cee-4738-971d-fe8fab49b71b\">\n",
              "    <div class=\"colab-df-container\">\n",
              "      <div>\n",
              "<style scoped>\n",
              "    .dataframe tbody tr th:only-of-type {\n",
              "        vertical-align: middle;\n",
              "    }\n",
              "\n",
              "    .dataframe tbody tr th {\n",
              "        vertical-align: top;\n",
              "    }\n",
              "\n",
              "    .dataframe thead th {\n",
              "        text-align: right;\n",
              "    }\n",
              "</style>\n",
              "<table border=\"1\" class=\"dataframe\">\n",
              "  <thead>\n",
              "    <tr style=\"text-align: right;\">\n",
              "      <th></th>\n",
              "      <th>Time</th>\n",
              "      <th>Y</th>\n",
              "      <th>X</th>\n",
              "    </tr>\n",
              "  </thead>\n",
              "  <tbody>\n",
              "    <tr>\n",
              "      <th>12</th>\n",
              "      <td>1981</td>\n",
              "      <td>71.11</td>\n",
              "      <td>14988</td>\n",
              "    </tr>\n",
              "    <tr>\n",
              "      <th>13</th>\n",
              "      <td>1982</td>\n",
              "      <td>81.03</td>\n",
              "      <td>15189</td>\n",
              "    </tr>\n",
              "    <tr>\n",
              "      <th>14</th>\n",
              "      <td>1983</td>\n",
              "      <td>95.18</td>\n",
              "      <td>15417</td>\n",
              "    </tr>\n",
              "    <tr>\n",
              "      <th>15</th>\n",
              "      <td>1984</td>\n",
              "      <td>96.38</td>\n",
              "      <td>15599</td>\n",
              "    </tr>\n",
              "    <tr>\n",
              "      <th>16</th>\n",
              "      <td>1985</td>\n",
              "      <td>121.58</td>\n",
              "      <td>15837</td>\n",
              "    </tr>\n",
              "    <tr>\n",
              "      <th>17</th>\n",
              "      <td>1986</td>\n",
              "      <td>138.58</td>\n",
              "      <td>16117</td>\n",
              "    </tr>\n",
              "    <tr>\n",
              "      <th>18</th>\n",
              "      <td>1987</td>\n",
              "      <td>138.23</td>\n",
              "      <td>16361</td>\n",
              "    </tr>\n",
              "    <tr>\n",
              "      <th>19</th>\n",
              "      <td>1988</td>\n",
              "      <td>156.26</td>\n",
              "      <td>16587</td>\n",
              "    </tr>\n",
              "    <tr>\n",
              "      <th>20</th>\n",
              "      <td>1989</td>\n",
              "      <td>195.01</td>\n",
              "      <td>16806</td>\n",
              "    </tr>\n",
              "    <tr>\n",
              "      <th>21</th>\n",
              "      <td>1990</td>\n",
              "      <td>180.49</td>\n",
              "      <td>16993</td>\n",
              "    </tr>\n",
              "    <tr>\n",
              "      <th>22</th>\n",
              "      <td>1991</td>\n",
              "      <td>229.44</td>\n",
              "      <td>17190</td>\n",
              "    </tr>\n",
              "    <tr>\n",
              "      <th>23</th>\n",
              "      <td>1992</td>\n",
              "      <td>240.21</td>\n",
              "      <td>17405</td>\n",
              "    </tr>\n",
              "  </tbody>\n",
              "</table>\n",
              "</div>\n",
              "      <button class=\"colab-df-convert\" onclick=\"convertToInteractive('df-33b54268-8cee-4738-971d-fe8fab49b71b')\"\n",
              "              title=\"Convert this dataframe to an interactive table.\"\n",
              "              style=\"display:none;\">\n",
              "        \n",
              "  <svg xmlns=\"http://www.w3.org/2000/svg\" height=\"24px\"viewBox=\"0 0 24 24\"\n",
              "       width=\"24px\">\n",
              "    <path d=\"M0 0h24v24H0V0z\" fill=\"none\"/>\n",
              "    <path d=\"M18.56 5.44l.94 2.06.94-2.06 2.06-.94-2.06-.94-.94-2.06-.94 2.06-2.06.94zm-11 1L8.5 8.5l.94-2.06 2.06-.94-2.06-.94L8.5 2.5l-.94 2.06-2.06.94zm10 10l.94 2.06.94-2.06 2.06-.94-2.06-.94-.94-2.06-.94 2.06-2.06.94z\"/><path d=\"M17.41 7.96l-1.37-1.37c-.4-.4-.92-.59-1.43-.59-.52 0-1.04.2-1.43.59L10.3 9.45l-7.72 7.72c-.78.78-.78 2.05 0 2.83L4 21.41c.39.39.9.59 1.41.59.51 0 1.02-.2 1.41-.59l7.78-7.78 2.81-2.81c.8-.78.8-2.07 0-2.86zM5.41 20L4 18.59l7.72-7.72 1.47 1.35L5.41 20z\"/>\n",
              "  </svg>\n",
              "      </button>\n",
              "      \n",
              "  <style>\n",
              "    .colab-df-container {\n",
              "      display:flex;\n",
              "      flex-wrap:wrap;\n",
              "      gap: 12px;\n",
              "    }\n",
              "\n",
              "    .colab-df-convert {\n",
              "      background-color: #E8F0FE;\n",
              "      border: none;\n",
              "      border-radius: 50%;\n",
              "      cursor: pointer;\n",
              "      display: none;\n",
              "      fill: #1967D2;\n",
              "      height: 32px;\n",
              "      padding: 0 0 0 0;\n",
              "      width: 32px;\n",
              "    }\n",
              "\n",
              "    .colab-df-convert:hover {\n",
              "      background-color: #E2EBFA;\n",
              "      box-shadow: 0px 1px 2px rgba(60, 64, 67, 0.3), 0px 1px 3px 1px rgba(60, 64, 67, 0.15);\n",
              "      fill: #174EA6;\n",
              "    }\n",
              "\n",
              "    [theme=dark] .colab-df-convert {\n",
              "      background-color: #3B4455;\n",
              "      fill: #D2E3FC;\n",
              "    }\n",
              "\n",
              "    [theme=dark] .colab-df-convert:hover {\n",
              "      background-color: #434B5C;\n",
              "      box-shadow: 0px 1px 3px 1px rgba(0, 0, 0, 0.15);\n",
              "      filter: drop-shadow(0px 1px 2px rgba(0, 0, 0, 0.3));\n",
              "      fill: #FFFFFF;\n",
              "    }\n",
              "  </style>\n",
              "\n",
              "      <script>\n",
              "        const buttonEl =\n",
              "          document.querySelector('#df-33b54268-8cee-4738-971d-fe8fab49b71b button.colab-df-convert');\n",
              "        buttonEl.style.display =\n",
              "          google.colab.kernel.accessAllowed ? 'block' : 'none';\n",
              "\n",
              "        async function convertToInteractive(key) {\n",
              "          const element = document.querySelector('#df-33b54268-8cee-4738-971d-fe8fab49b71b');\n",
              "          const dataTable =\n",
              "            await google.colab.kernel.invokeFunction('convertToInteractive',\n",
              "                                                     [key], {});\n",
              "          if (!dataTable) return;\n",
              "\n",
              "          const docLinkHtml = 'Like what you see? Visit the ' +\n",
              "            '<a target=\"_blank\" href=https://colab.research.google.com/notebooks/data_table.ipynb>data table notebook</a>'\n",
              "            + ' to learn more about interactive tables.';\n",
              "          element.innerHTML = '';\n",
              "          dataTable['output_type'] = 'display_data';\n",
              "          await google.colab.output.renderOutput(dataTable, element);\n",
              "          const docLink = document.createElement('div');\n",
              "          docLink.innerHTML = docLinkHtml;\n",
              "          element.appendChild(docLink);\n",
              "        }\n",
              "      </script>\n",
              "    </div>\n",
              "  </div>\n",
              "  "
            ]
          },
          "metadata": {},
          "execution_count": 17
        }
      ]
    },
    {
      "cell_type": "markdown",
      "source": [
        "4. Import ADFULLER for stationarity check"
      ],
      "metadata": {
        "id": "-ko7WusDmUsr"
      }
    },
    {
      "cell_type": "code",
      "source": [
        "from statsmodels.tsa.stattools import adfuller"
      ],
      "metadata": {
        "colab": {
          "base_uri": "https://localhost:8080/"
        },
        "id": "oyhFWFyzmeHC",
        "outputId": "15065a12-bb05-4049-9cdd-8ecd2d5e4a07"
      },
      "execution_count": null,
      "outputs": [
        {
          "output_type": "stream",
          "name": "stderr",
          "text": [
            "/usr/local/lib/python3.7/dist-packages/statsmodels/tools/_testing.py:19: FutureWarning: pandas.util.testing is deprecated. Use the functions in the public API at pandas.testing instead.\n",
            "  import pandas.util.testing as tm\n"
          ]
        }
      ]
    },
    {
      "cell_type": "code",
      "source": [
        "print('p value of original Y')\n",
        "adfuller(train_dt.Y)[1]"
      ],
      "metadata": {
        "colab": {
          "base_uri": "https://localhost:8080/"
        },
        "id": "MS3lAzm-mmdT",
        "outputId": "f39668e5-6311-4336-bacb-68a15ad8a7a3"
      },
      "execution_count": null,
      "outputs": [
        {
          "output_type": "stream",
          "name": "stdout",
          "text": [
            "p value of original Y\n"
          ]
        },
        {
          "output_type": "execute_result",
          "data": {
            "text/plain": [
              "0.9971995630345153"
            ]
          },
          "metadata": {},
          "execution_count": 19
        }
      ]
    },
    {
      "cell_type": "markdown",
      "source": [
        "This p value is higher than 0.05 so original Y not stationarity"
      ],
      "metadata": {
        "id": "F8f1xswNm9yr"
      }
    },
    {
      "cell_type": "markdown",
      "source": [
        "Now we take first order differncing Y series for stationarity check"
      ],
      "metadata": {
        "id": "X3RfNv13nWFS"
      }
    },
    {
      "cell_type": "code",
      "source": [
        "print('p value of 1st order diff Y')\n",
        "adfuller(train_dt.Y.diff().dropna())[1]"
      ],
      "metadata": {
        "colab": {
          "base_uri": "https://localhost:8080/"
        },
        "id": "zO6zNKmsniVe",
        "outputId": "ae6a38ce-626f-4d14-bb0b-0e690737f97b"
      },
      "execution_count": null,
      "outputs": [
        {
          "output_type": "stream",
          "name": "stdout",
          "text": [
            "p value of 1st order diff Y\n"
          ]
        },
        {
          "output_type": "execute_result",
          "data": {
            "text/plain": [
              "0.7439462753186002"
            ]
          },
          "metadata": {},
          "execution_count": 20
        }
      ]
    },
    {
      "cell_type": "code",
      "source": [
        "print('p value of 2nd order diff Y')\n",
        "adfuller(train_dt.Y.diff().diff().dropna())[1]"
      ],
      "metadata": {
        "colab": {
          "base_uri": "https://localhost:8080/"
        },
        "id": "vfu3VlMGloyh",
        "outputId": "cc41bcec-b45c-421a-93d0-3ee674ce4741"
      },
      "execution_count": null,
      "outputs": [
        {
          "output_type": "stream",
          "name": "stdout",
          "text": [
            "p value of 2nd order diff Y\n"
          ]
        },
        {
          "output_type": "execute_result",
          "data": {
            "text/plain": [
              "0.003523544369967598"
            ]
          },
          "metadata": {},
          "execution_count": 21
        }
      ]
    },
    {
      "cell_type": "markdown",
      "source": [
        "p value of 2nd order diff Y is less than 0.05 so we consider this series of Y is stationary"
      ],
      "metadata": {
        "id": "zp-tdKxln-sV"
      }
    },
    {
      "cell_type": "markdown",
      "source": [
        "All series are becoming stationary at second order differencing we consider second order differencing for further analysis of VAR order selection (AIC lag determination) & VARMAX"
      ],
      "metadata": {
        "id": "yfgvMkAwoUO_"
      }
    },
    {
      "cell_type": "code",
      "source": [
        "train_dt.diff2=(train_dt.Y.diff().diff().dropna())"
      ],
      "metadata": {
        "id": "B5JBgHAzoyEu",
        "colab": {
          "base_uri": "https://localhost:8080/"
        },
        "outputId": "c9c8760a-3a51-43f4-9b2b-603492957fa7"
      },
      "execution_count": null,
      "outputs": [
        {
          "output_type": "stream",
          "name": "stderr",
          "text": [
            "/usr/local/lib/python3.7/dist-packages/ipykernel_launcher.py:1: UserWarning: Pandas doesn't allow columns to be created via a new attribute name - see https://pandas.pydata.org/pandas-docs/stable/indexing.html#attribute-access\n",
            "  \"\"\"Entry point for launching an IPython kernel.\n"
          ]
        }
      ]
    },
    {
      "cell_type": "code",
      "source": [
        "train_dt.head()"
      ],
      "metadata": {
        "colab": {
          "base_uri": "https://localhost:8080/",
          "height": 206
        },
        "id": "5N8udJtNpP7s",
        "outputId": "87933d6e-101d-41ad-f07e-cfa54ff93162"
      },
      "execution_count": null,
      "outputs": [
        {
          "output_type": "execute_result",
          "data": {
            "text/plain": [
              "   Time      Y      X\n",
              "0  1969  51.53  12252\n",
              "1  1970  50.23  12516\n",
              "2  1971  54.63  12608\n",
              "3  1972  64.48  12861\n",
              "4  1973  51.82  13091"
            ],
            "text/html": [
              "\n",
              "  <div id=\"df-f55b4ca7-1a37-4760-9536-193620283f0b\">\n",
              "    <div class=\"colab-df-container\">\n",
              "      <div>\n",
              "<style scoped>\n",
              "    .dataframe tbody tr th:only-of-type {\n",
              "        vertical-align: middle;\n",
              "    }\n",
              "\n",
              "    .dataframe tbody tr th {\n",
              "        vertical-align: top;\n",
              "    }\n",
              "\n",
              "    .dataframe thead th {\n",
              "        text-align: right;\n",
              "    }\n",
              "</style>\n",
              "<table border=\"1\" class=\"dataframe\">\n",
              "  <thead>\n",
              "    <tr style=\"text-align: right;\">\n",
              "      <th></th>\n",
              "      <th>Time</th>\n",
              "      <th>Y</th>\n",
              "      <th>X</th>\n",
              "    </tr>\n",
              "  </thead>\n",
              "  <tbody>\n",
              "    <tr>\n",
              "      <th>0</th>\n",
              "      <td>1969</td>\n",
              "      <td>51.53</td>\n",
              "      <td>12252</td>\n",
              "    </tr>\n",
              "    <tr>\n",
              "      <th>1</th>\n",
              "      <td>1970</td>\n",
              "      <td>50.23</td>\n",
              "      <td>12516</td>\n",
              "    </tr>\n",
              "    <tr>\n",
              "      <th>2</th>\n",
              "      <td>1971</td>\n",
              "      <td>54.63</td>\n",
              "      <td>12608</td>\n",
              "    </tr>\n",
              "    <tr>\n",
              "      <th>3</th>\n",
              "      <td>1972</td>\n",
              "      <td>64.48</td>\n",
              "      <td>12861</td>\n",
              "    </tr>\n",
              "    <tr>\n",
              "      <th>4</th>\n",
              "      <td>1973</td>\n",
              "      <td>51.82</td>\n",
              "      <td>13091</td>\n",
              "    </tr>\n",
              "  </tbody>\n",
              "</table>\n",
              "</div>\n",
              "      <button class=\"colab-df-convert\" onclick=\"convertToInteractive('df-f55b4ca7-1a37-4760-9536-193620283f0b')\"\n",
              "              title=\"Convert this dataframe to an interactive table.\"\n",
              "              style=\"display:none;\">\n",
              "        \n",
              "  <svg xmlns=\"http://www.w3.org/2000/svg\" height=\"24px\"viewBox=\"0 0 24 24\"\n",
              "       width=\"24px\">\n",
              "    <path d=\"M0 0h24v24H0V0z\" fill=\"none\"/>\n",
              "    <path d=\"M18.56 5.44l.94 2.06.94-2.06 2.06-.94-2.06-.94-.94-2.06-.94 2.06-2.06.94zm-11 1L8.5 8.5l.94-2.06 2.06-.94-2.06-.94L8.5 2.5l-.94 2.06-2.06.94zm10 10l.94 2.06.94-2.06 2.06-.94-2.06-.94-.94-2.06-.94 2.06-2.06.94z\"/><path d=\"M17.41 7.96l-1.37-1.37c-.4-.4-.92-.59-1.43-.59-.52 0-1.04.2-1.43.59L10.3 9.45l-7.72 7.72c-.78.78-.78 2.05 0 2.83L4 21.41c.39.39.9.59 1.41.59.51 0 1.02-.2 1.41-.59l7.78-7.78 2.81-2.81c.8-.78.8-2.07 0-2.86zM5.41 20L4 18.59l7.72-7.72 1.47 1.35L5.41 20z\"/>\n",
              "  </svg>\n",
              "      </button>\n",
              "      \n",
              "  <style>\n",
              "    .colab-df-container {\n",
              "      display:flex;\n",
              "      flex-wrap:wrap;\n",
              "      gap: 12px;\n",
              "    }\n",
              "\n",
              "    .colab-df-convert {\n",
              "      background-color: #E8F0FE;\n",
              "      border: none;\n",
              "      border-radius: 50%;\n",
              "      cursor: pointer;\n",
              "      display: none;\n",
              "      fill: #1967D2;\n",
              "      height: 32px;\n",
              "      padding: 0 0 0 0;\n",
              "      width: 32px;\n",
              "    }\n",
              "\n",
              "    .colab-df-convert:hover {\n",
              "      background-color: #E2EBFA;\n",
              "      box-shadow: 0px 1px 2px rgba(60, 64, 67, 0.3), 0px 1px 3px 1px rgba(60, 64, 67, 0.15);\n",
              "      fill: #174EA6;\n",
              "    }\n",
              "\n",
              "    [theme=dark] .colab-df-convert {\n",
              "      background-color: #3B4455;\n",
              "      fill: #D2E3FC;\n",
              "    }\n",
              "\n",
              "    [theme=dark] .colab-df-convert:hover {\n",
              "      background-color: #434B5C;\n",
              "      box-shadow: 0px 1px 3px 1px rgba(0, 0, 0, 0.15);\n",
              "      filter: drop-shadow(0px 1px 2px rgba(0, 0, 0, 0.3));\n",
              "      fill: #FFFFFF;\n",
              "    }\n",
              "  </style>\n",
              "\n",
              "      <script>\n",
              "        const buttonEl =\n",
              "          document.querySelector('#df-f55b4ca7-1a37-4760-9536-193620283f0b button.colab-df-convert');\n",
              "        buttonEl.style.display =\n",
              "          google.colab.kernel.accessAllowed ? 'block' : 'none';\n",
              "\n",
              "        async function convertToInteractive(key) {\n",
              "          const element = document.querySelector('#df-f55b4ca7-1a37-4760-9536-193620283f0b');\n",
              "          const dataTable =\n",
              "            await google.colab.kernel.invokeFunction('convertToInteractive',\n",
              "                                                     [key], {});\n",
              "          if (!dataTable) return;\n",
              "\n",
              "          const docLinkHtml = 'Like what you see? Visit the ' +\n",
              "            '<a target=\"_blank\" href=https://colab.research.google.com/notebooks/data_table.ipynb>data table notebook</a>'\n",
              "            + ' to learn more about interactive tables.';\n",
              "          element.innerHTML = '';\n",
              "          dataTable['output_type'] = 'display_data';\n",
              "          await google.colab.output.renderOutput(dataTable, element);\n",
              "          const docLink = document.createElement('div');\n",
              "          docLink.innerHTML = docLinkHtml;\n",
              "          element.appendChild(docLink);\n",
              "        }\n",
              "      </script>\n",
              "    </div>\n",
              "  </div>\n",
              "  "
            ]
          },
          "metadata": {},
          "execution_count": 23
        }
      ]
    },
    {
      "cell_type": "code",
      "source": [
        "train_dt.diff2.head()"
      ],
      "metadata": {
        "colab": {
          "base_uri": "https://localhost:8080/"
        },
        "id": "LHi26BKJpV5V",
        "outputId": "9df4f743-68b0-45e1-8774-de9eca96b3aa"
      },
      "execution_count": null,
      "outputs": [
        {
          "output_type": "execute_result",
          "data": {
            "text/plain": [
              "2     5.70\n",
              "3     5.45\n",
              "4   -22.51\n",
              "5    -3.03\n",
              "6    27.20\n",
              "Name: Y, dtype: float64"
            ]
          },
          "metadata": {},
          "execution_count": 24
        }
      ]
    },
    {
      "cell_type": "markdown",
      "source": [
        "5. Import VAR for VAR order selection or lag determination with AIC test"
      ],
      "metadata": {
        "id": "tH_jYhGyp7MQ"
      }
    },
    {
      "cell_type": "code",
      "source": [
        "from statsmodels.tsa.api import VAR"
      ],
      "metadata": {
        "id": "Zcp_Ne9uqG5i"
      },
      "execution_count": null,
      "outputs": []
    },
    {
      "cell_type": "code",
      "source": [
        "import warnings \n",
        "warnings.filterwarnings('ignore')"
      ],
      "metadata": {
        "id": "z_8wRlfup2VX"
      },
      "execution_count": null,
      "outputs": []
    },
    {
      "cell_type": "code",
      "source": [
        "model=VAR(train_dt)"
      ],
      "metadata": {
        "id": "t7yW6p94qd7L"
      },
      "execution_count": null,
      "outputs": []
    },
    {
      "cell_type": "code",
      "source": [
        "result=model.fit()"
      ],
      "metadata": {
        "id": "8H2N4Pn5qoha"
      },
      "execution_count": null,
      "outputs": []
    },
    {
      "cell_type": "code",
      "source": [
        " print(result.summary())"
      ],
      "metadata": {
        "colab": {
          "base_uri": "https://localhost:8080/"
        },
        "id": "7bUwkdYJrGZS",
        "outputId": "b7e68cee-3797-434b-8b15-97503817e8b2"
      },
      "execution_count": null,
      "outputs": [
        {
          "output_type": "stream",
          "name": "stdout",
          "text": [
            "  Summary of Regression Results   \n",
            "==================================\n",
            "Model:                         VAR\n",
            "Method:                        OLS\n",
            "Date:           Thu, 26, May, 2022\n",
            "Time:                     05:17:08\n",
            "--------------------------------------------------------------------\n",
            "No. of Equations:         3.00000    BIC:                   -42.0352\n",
            "Nobs:                     11.0000    HQIC:                  -42.7429\n",
            "Log likelihood:           198.756    FPE:                3.99259e-19\n",
            "AIC:                     -42.4693    Det(Omega_mle):     1.57456e-19\n",
            "--------------------------------------------------------------------\n",
            "Results for equation Time\n",
            "===========================================================================\n",
            "             coefficient       std. error            t-stat            prob\n",
            "---------------------------------------------------------------------------\n",
            "const           1.000000         0.000000     364883797.571           0.000\n",
            "L1.Time         1.000000         0.000000  698044313641.456           0.000\n",
            "L1.Y            0.000000         0.000000             0.001           0.999\n",
            "L1.X           -0.000000         0.000000            -0.050           0.960\n",
            "===========================================================================\n",
            "\n",
            "Results for equation Y\n",
            "==========================================================================\n",
            "             coefficient       std. error           t-stat            prob\n",
            "--------------------------------------------------------------------------\n",
            "const       24519.289761     32140.565381            0.763           0.446\n",
            "L1.Time       -12.842155        16.800612           -0.764           0.445\n",
            "L1.Y            0.386077         0.439421            0.879           0.380\n",
            "L1.X            0.065059         0.077399            0.841           0.401\n",
            "==========================================================================\n",
            "\n",
            "Results for equation X\n",
            "==========================================================================\n",
            "             coefficient       std. error           t-stat            prob\n",
            "--------------------------------------------------------------------------\n",
            "const     -200540.004950    157766.768170           -1.271           0.204\n",
            "L1.Time       104.705807        82.468314            1.270           0.204\n",
            "L1.Y            2.009482         2.156962            0.932           0.352\n",
            "L1.X            0.547023         0.379925            1.440           0.150\n",
            "==========================================================================\n",
            "\n",
            "Correlation matrix of residuals\n",
            "            Time         Y         X\n",
            "Time    1.000000  0.008964  0.121931\n",
            "Y       0.008964  1.000000  0.336113\n",
            "X       0.121931  0.336113  1.000000\n",
            "\n",
            "\n",
            "\n"
          ]
        }
      ]
    },
    {
      "cell_type": "markdown",
      "source": [
        "On the basis of VAR select order summary we come to know that first  minimum AIC is found at 4th lag so we will consider 4 lags for VARMAX"
      ],
      "metadata": {
        "id": "xEjvtkYrsWC9"
      }
    },
    {
      "cell_type": "markdown",
      "source": [
        "6. Import VARMAX for constructing actual VAR model"
      ],
      "metadata": {
        "id": "zGLo8zhxs3La"
      }
    },
    {
      "cell_type": "code",
      "source": [
        "from statsmodels.tsa.statespace.varmax import VARMAX"
      ],
      "metadata": {
        "id": "d0nzuI-Gtlob"
      },
      "execution_count": null,
      "outputs": []
    },
    {
      "cell_type": "code",
      "source": [
        "VARMAX_model=VARMAX(train_dt,order=(1,0), enfroce_stationarity=True)"
      ],
      "metadata": {
        "id": "y9w_4E3Ct1ST"
      },
      "execution_count": null,
      "outputs": []
    },
    {
      "cell_type": "code",
      "source": [
        "VARMAX_result=VARMAX_model.fit(disp=False)"
      ],
      "metadata": {
        "id": "qeJjWjpQzmXh"
      },
      "execution_count": null,
      "outputs": []
    },
    {
      "cell_type": "code",
      "source": [
        "print(VARMAX_result.summary())"
      ],
      "metadata": {
        "colab": {
          "base_uri": "https://localhost:8080/"
        },
        "id": "Pugagia5vsR7",
        "outputId": "f82258ee-b823-4df1-befd-f5ab850fc442"
      },
      "execution_count": null,
      "outputs": [
        {
          "output_type": "stream",
          "name": "stdout",
          "text": [
            "                           Statespace Model Results                           \n",
            "==============================================================================\n",
            "Dep. Variable:     ['Time', 'Y', 'X']   No. Observations:                   12\n",
            "Model:                         VAR(1)   Log Likelihood                -119.100\n",
            "                          + intercept   AIC                            274.201\n",
            "Date:                Thu, 26 May 2022   BIC                            282.929\n",
            "Time:                        05:28:19   HQIC                           270.969\n",
            "Sample:                             0                                         \n",
            "                                 - 12                                         \n",
            "Covariance Type:                  opg                                         \n",
            "===================================================================================\n",
            "Ljung-Box (Q):                         nan   Jarque-Bera (JB):    13.64, 0.26, 0.74\n",
            "Prob(Q):                               nan   Prob(JB):             0.00, 0.88, 0.69\n",
            "Heteroskedasticity (H):   0.25, 0.65, 0.19   Skew:               -1.89, -0.09, 0.36\n",
            "Prob(H) (two-sided):      0.21, 0.69, 0.14   Kurtosis:             6.60, 3.70, 3.98\n",
            "                          Results for equation Time                           \n",
            "==============================================================================\n",
            "                 coef    std err          z      P>|z|      [0.025      0.975]\n",
            "------------------------------------------------------------------------------\n",
            "intercept  -1862.2229      0.575  -3237.944      0.000   -1863.350   -1861.096\n",
            "L1.Time        1.9759      0.043     45.948      0.000       1.892       2.060\n",
            "L1.Y          -0.0280      0.040     -0.707      0.480      -0.106       0.050\n",
            "L1.X          -0.0046      0.006     -0.774      0.439      -0.016       0.007\n",
            "                            Results for equation Y                            \n",
            "==============================================================================\n",
            "                 coef    std err          z      P>|z|      [0.025      0.975]\n",
            "------------------------------------------------------------------------------\n",
            "intercept   1.999e+04      0.003   7.96e+06      0.000       2e+04       2e+04\n",
            "L1.Time      -10.4663      0.130    -80.400      0.000     -10.721     -10.211\n",
            "L1.Y           0.3181      3.094      0.103      0.918      -5.747       6.383\n",
            "L1.X           0.0537      0.018      3.056      0.002       0.019       0.088\n",
            "                            Results for equation X                            \n",
            "==============================================================================\n",
            "                 coef    std err          z      P>|z|      [0.025      0.975]\n",
            "------------------------------------------------------------------------------\n",
            "intercept  -6.266e+05      0.007  -9.54e+07      0.000   -6.27e+05   -6.27e+05\n",
            "L1.Time      327.8656      9.808     33.428      0.000     308.642     347.089\n",
            "L1.Y          -4.3857     12.571     -0.349      0.727     -29.024      20.253\n",
            "L1.X          -0.5159      1.391     -0.371      0.711      -3.242       2.210\n",
            "                              Error covariance matrix                              \n",
            "===================================================================================\n",
            "                      coef    std err          z      P>|z|      [0.025      0.975]\n",
            "-----------------------------------------------------------------------------------\n",
            "sqrt.var.Time       1.0982      0.506      2.169      0.030       0.106       2.091\n",
            "sqrt.cov.Time.Y     2.6721     30.875      0.087      0.931     -57.842      63.186\n",
            "sqrt.var.Y          9.3804      4.382      2.141      0.032       0.792      17.969\n",
            "sqrt.cov.Time.X   251.1196      5.847     42.952      0.000     239.661     262.579\n",
            "sqrt.cov.Y.X       15.4763      3.838      4.032      0.000       7.954      22.999\n",
            "sqrt.var.X         43.3662     38.021      1.141      0.254     -31.154     117.886\n",
            "===================================================================================\n",
            "\n",
            "Warnings:\n",
            "[1] Covariance matrix calculated using the outer product of gradients (complex-step).\n",
            "[2] Covariance matrix is singular or near-singular, with condition number 2.96e+19. Standard errors may be unstable.\n"
          ]
        }
      ]
    },
    {
      "cell_type": "markdown",
      "source": [
        "7. Use of VAR model for forecasting next (10% time)"
      ],
      "metadata": {
        "id": "tzrEBUp6wWCl"
      }
    },
    {
      "cell_type": "code",
      "source": [
        "n_forecast=12\n",
        "predict=VARMAX_result.get_prediction(start=len(train_dt),end=len(train_dt)+n_forecast-1)"
      ],
      "metadata": {
        "id": "izEC-LGvwfzO"
      },
      "execution_count": null,
      "outputs": []
    },
    {
      "cell_type": "code",
      "source": [
        "predictions=predict.predicted_mean"
      ],
      "metadata": {
        "id": "GpdkD4NYwU7z"
      },
      "execution_count": null,
      "outputs": []
    },
    {
      "cell_type": "code",
      "source": [
        "predictions.coloumns=[['X_p,Y_p']]\n",
        "predictions"
      ],
      "metadata": {
        "colab": {
          "base_uri": "https://localhost:8080/",
          "height": 426
        },
        "id": "k-Y7JcYByudR",
        "outputId": "2774553e-c461-40f2-edcf-6addba451dde"
      },
      "execution_count": null,
      "outputs": [
        {
          "output_type": "execute_result",
          "data": {
            "text/plain": [
              "           Time          Y             X\n",
              "12  1979.354735  79.207153  14635.716417\n",
              "13  1978.517519  80.892180  14471.014411\n",
              "14  1977.581713  81.339153  14274.097188\n",
              "15  1976.635471  80.692894  14066.904558\n",
              "16  1975.746944  79.255922  13866.385681\n",
              "17  1974.963551  77.322049  13684.814737\n",
              "18  1974.313712  75.148088  13530.117675\n",
              "19  1973.809563  72.944210  13406.397891\n",
              "20  1973.450131  70.870783  13314.595368\n",
              "21  1973.224634  69.039527  13253.202469\n",
              "22  1973.115660  67.517769  13218.972892\n",
              "23  1973.102003  66.334729  13207.576274"
            ],
            "text/html": [
              "\n",
              "  <div id=\"df-f647d216-1eb1-465c-8944-a264dde48517\">\n",
              "    <div class=\"colab-df-container\">\n",
              "      <div>\n",
              "<style scoped>\n",
              "    .dataframe tbody tr th:only-of-type {\n",
              "        vertical-align: middle;\n",
              "    }\n",
              "\n",
              "    .dataframe tbody tr th {\n",
              "        vertical-align: top;\n",
              "    }\n",
              "\n",
              "    .dataframe thead th {\n",
              "        text-align: right;\n",
              "    }\n",
              "</style>\n",
              "<table border=\"1\" class=\"dataframe\">\n",
              "  <thead>\n",
              "    <tr style=\"text-align: right;\">\n",
              "      <th></th>\n",
              "      <th>Time</th>\n",
              "      <th>Y</th>\n",
              "      <th>X</th>\n",
              "    </tr>\n",
              "  </thead>\n",
              "  <tbody>\n",
              "    <tr>\n",
              "      <th>12</th>\n",
              "      <td>1979.354735</td>\n",
              "      <td>79.207153</td>\n",
              "      <td>14635.716417</td>\n",
              "    </tr>\n",
              "    <tr>\n",
              "      <th>13</th>\n",
              "      <td>1978.517519</td>\n",
              "      <td>80.892180</td>\n",
              "      <td>14471.014411</td>\n",
              "    </tr>\n",
              "    <tr>\n",
              "      <th>14</th>\n",
              "      <td>1977.581713</td>\n",
              "      <td>81.339153</td>\n",
              "      <td>14274.097188</td>\n",
              "    </tr>\n",
              "    <tr>\n",
              "      <th>15</th>\n",
              "      <td>1976.635471</td>\n",
              "      <td>80.692894</td>\n",
              "      <td>14066.904558</td>\n",
              "    </tr>\n",
              "    <tr>\n",
              "      <th>16</th>\n",
              "      <td>1975.746944</td>\n",
              "      <td>79.255922</td>\n",
              "      <td>13866.385681</td>\n",
              "    </tr>\n",
              "    <tr>\n",
              "      <th>17</th>\n",
              "      <td>1974.963551</td>\n",
              "      <td>77.322049</td>\n",
              "      <td>13684.814737</td>\n",
              "    </tr>\n",
              "    <tr>\n",
              "      <th>18</th>\n",
              "      <td>1974.313712</td>\n",
              "      <td>75.148088</td>\n",
              "      <td>13530.117675</td>\n",
              "    </tr>\n",
              "    <tr>\n",
              "      <th>19</th>\n",
              "      <td>1973.809563</td>\n",
              "      <td>72.944210</td>\n",
              "      <td>13406.397891</td>\n",
              "    </tr>\n",
              "    <tr>\n",
              "      <th>20</th>\n",
              "      <td>1973.450131</td>\n",
              "      <td>70.870783</td>\n",
              "      <td>13314.595368</td>\n",
              "    </tr>\n",
              "    <tr>\n",
              "      <th>21</th>\n",
              "      <td>1973.224634</td>\n",
              "      <td>69.039527</td>\n",
              "      <td>13253.202469</td>\n",
              "    </tr>\n",
              "    <tr>\n",
              "      <th>22</th>\n",
              "      <td>1973.115660</td>\n",
              "      <td>67.517769</td>\n",
              "      <td>13218.972892</td>\n",
              "    </tr>\n",
              "    <tr>\n",
              "      <th>23</th>\n",
              "      <td>1973.102003</td>\n",
              "      <td>66.334729</td>\n",
              "      <td>13207.576274</td>\n",
              "    </tr>\n",
              "  </tbody>\n",
              "</table>\n",
              "</div>\n",
              "      <button class=\"colab-df-convert\" onclick=\"convertToInteractive('df-f647d216-1eb1-465c-8944-a264dde48517')\"\n",
              "              title=\"Convert this dataframe to an interactive table.\"\n",
              "              style=\"display:none;\">\n",
              "        \n",
              "  <svg xmlns=\"http://www.w3.org/2000/svg\" height=\"24px\"viewBox=\"0 0 24 24\"\n",
              "       width=\"24px\">\n",
              "    <path d=\"M0 0h24v24H0V0z\" fill=\"none\"/>\n",
              "    <path d=\"M18.56 5.44l.94 2.06.94-2.06 2.06-.94-2.06-.94-.94-2.06-.94 2.06-2.06.94zm-11 1L8.5 8.5l.94-2.06 2.06-.94-2.06-.94L8.5 2.5l-.94 2.06-2.06.94zm10 10l.94 2.06.94-2.06 2.06-.94-2.06-.94-.94-2.06-.94 2.06-2.06.94z\"/><path d=\"M17.41 7.96l-1.37-1.37c-.4-.4-.92-.59-1.43-.59-.52 0-1.04.2-1.43.59L10.3 9.45l-7.72 7.72c-.78.78-.78 2.05 0 2.83L4 21.41c.39.39.9.59 1.41.59.51 0 1.02-.2 1.41-.59l7.78-7.78 2.81-2.81c.8-.78.8-2.07 0-2.86zM5.41 20L4 18.59l7.72-7.72 1.47 1.35L5.41 20z\"/>\n",
              "  </svg>\n",
              "      </button>\n",
              "      \n",
              "  <style>\n",
              "    .colab-df-container {\n",
              "      display:flex;\n",
              "      flex-wrap:wrap;\n",
              "      gap: 12px;\n",
              "    }\n",
              "\n",
              "    .colab-df-convert {\n",
              "      background-color: #E8F0FE;\n",
              "      border: none;\n",
              "      border-radius: 50%;\n",
              "      cursor: pointer;\n",
              "      display: none;\n",
              "      fill: #1967D2;\n",
              "      height: 32px;\n",
              "      padding: 0 0 0 0;\n",
              "      width: 32px;\n",
              "    }\n",
              "\n",
              "    .colab-df-convert:hover {\n",
              "      background-color: #E2EBFA;\n",
              "      box-shadow: 0px 1px 2px rgba(60, 64, 67, 0.3), 0px 1px 3px 1px rgba(60, 64, 67, 0.15);\n",
              "      fill: #174EA6;\n",
              "    }\n",
              "\n",
              "    [theme=dark] .colab-df-convert {\n",
              "      background-color: #3B4455;\n",
              "      fill: #D2E3FC;\n",
              "    }\n",
              "\n",
              "    [theme=dark] .colab-df-convert:hover {\n",
              "      background-color: #434B5C;\n",
              "      box-shadow: 0px 1px 3px 1px rgba(0, 0, 0, 0.15);\n",
              "      filter: drop-shadow(0px 1px 2px rgba(0, 0, 0, 0.3));\n",
              "      fill: #FFFFFF;\n",
              "    }\n",
              "  </style>\n",
              "\n",
              "      <script>\n",
              "        const buttonEl =\n",
              "          document.querySelector('#df-f647d216-1eb1-465c-8944-a264dde48517 button.colab-df-convert');\n",
              "        buttonEl.style.display =\n",
              "          google.colab.kernel.accessAllowed ? 'block' : 'none';\n",
              "\n",
              "        async function convertToInteractive(key) {\n",
              "          const element = document.querySelector('#df-f647d216-1eb1-465c-8944-a264dde48517');\n",
              "          const dataTable =\n",
              "            await google.colab.kernel.invokeFunction('convertToInteractive',\n",
              "                                                     [key], {});\n",
              "          if (!dataTable) return;\n",
              "\n",
              "          const docLinkHtml = 'Like what you see? Visit the ' +\n",
              "            '<a target=\"_blank\" href=https://colab.research.google.com/notebooks/data_table.ipynb>data table notebook</a>'\n",
              "            + ' to learn more about interactive tables.';\n",
              "          element.innerHTML = '';\n",
              "          dataTable['output_type'] = 'display_data';\n",
              "          await google.colab.output.renderOutput(dataTable, element);\n",
              "          const docLink = document.createElement('div');\n",
              "          docLink.innerHTML = docLinkHtml;\n",
              "          element.appendChild(docLink);\n",
              "        }\n",
              "      </script>\n",
              "    </div>\n",
              "  </div>\n",
              "  "
            ]
          },
          "metadata": {},
          "execution_count": 45
        }
      ]
    },
    {
      "cell_type": "code",
      "source": [
        "test_dt"
      ],
      "metadata": {
        "colab": {
          "base_uri": "https://localhost:8080/",
          "height": 426
        },
        "id": "Jz2vgSXkzzaE",
        "outputId": "95b16822-fc3a-4574-be98-f8fa1f722493"
      },
      "execution_count": null,
      "outputs": [
        {
          "output_type": "execute_result",
          "data": {
            "text/plain": [
              "    Time       Y      X\n",
              "12  1981   71.11  14988\n",
              "13  1982   81.03  15189\n",
              "14  1983   95.18  15417\n",
              "15  1984   96.38  15599\n",
              "16  1985  121.58  15837\n",
              "17  1986  138.58  16117\n",
              "18  1987  138.23  16361\n",
              "19  1988  156.26  16587\n",
              "20  1989  195.01  16806\n",
              "21  1990  180.49  16993\n",
              "22  1991  229.44  17190\n",
              "23  1992  240.21  17405"
            ],
            "text/html": [
              "\n",
              "  <div id=\"df-9d34eb48-e2fe-4fb7-8a61-e14766925567\">\n",
              "    <div class=\"colab-df-container\">\n",
              "      <div>\n",
              "<style scoped>\n",
              "    .dataframe tbody tr th:only-of-type {\n",
              "        vertical-align: middle;\n",
              "    }\n",
              "\n",
              "    .dataframe tbody tr th {\n",
              "        vertical-align: top;\n",
              "    }\n",
              "\n",
              "    .dataframe thead th {\n",
              "        text-align: right;\n",
              "    }\n",
              "</style>\n",
              "<table border=\"1\" class=\"dataframe\">\n",
              "  <thead>\n",
              "    <tr style=\"text-align: right;\">\n",
              "      <th></th>\n",
              "      <th>Time</th>\n",
              "      <th>Y</th>\n",
              "      <th>X</th>\n",
              "    </tr>\n",
              "  </thead>\n",
              "  <tbody>\n",
              "    <tr>\n",
              "      <th>12</th>\n",
              "      <td>1981</td>\n",
              "      <td>71.11</td>\n",
              "      <td>14988</td>\n",
              "    </tr>\n",
              "    <tr>\n",
              "      <th>13</th>\n",
              "      <td>1982</td>\n",
              "      <td>81.03</td>\n",
              "      <td>15189</td>\n",
              "    </tr>\n",
              "    <tr>\n",
              "      <th>14</th>\n",
              "      <td>1983</td>\n",
              "      <td>95.18</td>\n",
              "      <td>15417</td>\n",
              "    </tr>\n",
              "    <tr>\n",
              "      <th>15</th>\n",
              "      <td>1984</td>\n",
              "      <td>96.38</td>\n",
              "      <td>15599</td>\n",
              "    </tr>\n",
              "    <tr>\n",
              "      <th>16</th>\n",
              "      <td>1985</td>\n",
              "      <td>121.58</td>\n",
              "      <td>15837</td>\n",
              "    </tr>\n",
              "    <tr>\n",
              "      <th>17</th>\n",
              "      <td>1986</td>\n",
              "      <td>138.58</td>\n",
              "      <td>16117</td>\n",
              "    </tr>\n",
              "    <tr>\n",
              "      <th>18</th>\n",
              "      <td>1987</td>\n",
              "      <td>138.23</td>\n",
              "      <td>16361</td>\n",
              "    </tr>\n",
              "    <tr>\n",
              "      <th>19</th>\n",
              "      <td>1988</td>\n",
              "      <td>156.26</td>\n",
              "      <td>16587</td>\n",
              "    </tr>\n",
              "    <tr>\n",
              "      <th>20</th>\n",
              "      <td>1989</td>\n",
              "      <td>195.01</td>\n",
              "      <td>16806</td>\n",
              "    </tr>\n",
              "    <tr>\n",
              "      <th>21</th>\n",
              "      <td>1990</td>\n",
              "      <td>180.49</td>\n",
              "      <td>16993</td>\n",
              "    </tr>\n",
              "    <tr>\n",
              "      <th>22</th>\n",
              "      <td>1991</td>\n",
              "      <td>229.44</td>\n",
              "      <td>17190</td>\n",
              "    </tr>\n",
              "    <tr>\n",
              "      <th>23</th>\n",
              "      <td>1992</td>\n",
              "      <td>240.21</td>\n",
              "      <td>17405</td>\n",
              "    </tr>\n",
              "  </tbody>\n",
              "</table>\n",
              "</div>\n",
              "      <button class=\"colab-df-convert\" onclick=\"convertToInteractive('df-9d34eb48-e2fe-4fb7-8a61-e14766925567')\"\n",
              "              title=\"Convert this dataframe to an interactive table.\"\n",
              "              style=\"display:none;\">\n",
              "        \n",
              "  <svg xmlns=\"http://www.w3.org/2000/svg\" height=\"24px\"viewBox=\"0 0 24 24\"\n",
              "       width=\"24px\">\n",
              "    <path d=\"M0 0h24v24H0V0z\" fill=\"none\"/>\n",
              "    <path d=\"M18.56 5.44l.94 2.06.94-2.06 2.06-.94-2.06-.94-.94-2.06-.94 2.06-2.06.94zm-11 1L8.5 8.5l.94-2.06 2.06-.94-2.06-.94L8.5 2.5l-.94 2.06-2.06.94zm10 10l.94 2.06.94-2.06 2.06-.94-2.06-.94-.94-2.06-.94 2.06-2.06.94z\"/><path d=\"M17.41 7.96l-1.37-1.37c-.4-.4-.92-.59-1.43-.59-.52 0-1.04.2-1.43.59L10.3 9.45l-7.72 7.72c-.78.78-.78 2.05 0 2.83L4 21.41c.39.39.9.59 1.41.59.51 0 1.02-.2 1.41-.59l7.78-7.78 2.81-2.81c.8-.78.8-2.07 0-2.86zM5.41 20L4 18.59l7.72-7.72 1.47 1.35L5.41 20z\"/>\n",
              "  </svg>\n",
              "      </button>\n",
              "      \n",
              "  <style>\n",
              "    .colab-df-container {\n",
              "      display:flex;\n",
              "      flex-wrap:wrap;\n",
              "      gap: 12px;\n",
              "    }\n",
              "\n",
              "    .colab-df-convert {\n",
              "      background-color: #E8F0FE;\n",
              "      border: none;\n",
              "      border-radius: 50%;\n",
              "      cursor: pointer;\n",
              "      display: none;\n",
              "      fill: #1967D2;\n",
              "      height: 32px;\n",
              "      padding: 0 0 0 0;\n",
              "      width: 32px;\n",
              "    }\n",
              "\n",
              "    .colab-df-convert:hover {\n",
              "      background-color: #E2EBFA;\n",
              "      box-shadow: 0px 1px 2px rgba(60, 64, 67, 0.3), 0px 1px 3px 1px rgba(60, 64, 67, 0.15);\n",
              "      fill: #174EA6;\n",
              "    }\n",
              "\n",
              "    [theme=dark] .colab-df-convert {\n",
              "      background-color: #3B4455;\n",
              "      fill: #D2E3FC;\n",
              "    }\n",
              "\n",
              "    [theme=dark] .colab-df-convert:hover {\n",
              "      background-color: #434B5C;\n",
              "      box-shadow: 0px 1px 3px 1px rgba(0, 0, 0, 0.15);\n",
              "      filter: drop-shadow(0px 1px 2px rgba(0, 0, 0, 0.3));\n",
              "      fill: #FFFFFF;\n",
              "    }\n",
              "  </style>\n",
              "\n",
              "      <script>\n",
              "        const buttonEl =\n",
              "          document.querySelector('#df-9d34eb48-e2fe-4fb7-8a61-e14766925567 button.colab-df-convert');\n",
              "        buttonEl.style.display =\n",
              "          google.colab.kernel.accessAllowed ? 'block' : 'none';\n",
              "\n",
              "        async function convertToInteractive(key) {\n",
              "          const element = document.querySelector('#df-9d34eb48-e2fe-4fb7-8a61-e14766925567');\n",
              "          const dataTable =\n",
              "            await google.colab.kernel.invokeFunction('convertToInteractive',\n",
              "                                                     [key], {});\n",
              "          if (!dataTable) return;\n",
              "\n",
              "          const docLinkHtml = 'Like what you see? Visit the ' +\n",
              "            '<a target=\"_blank\" href=https://colab.research.google.com/notebooks/data_table.ipynb>data table notebook</a>'\n",
              "            + ' to learn more about interactive tables.';\n",
              "          element.innerHTML = '';\n",
              "          dataTable['output_type'] = 'display_data';\n",
              "          await google.colab.output.renderOutput(dataTable, element);\n",
              "          const docLink = document.createElement('div');\n",
              "          docLink.innerHTML = docLinkHtml;\n",
              "          element.appendChild(docLink);\n",
              "        }\n",
              "      </script>\n",
              "    </div>\n",
              "  </div>\n",
              "  "
            ]
          },
          "metadata": {},
          "execution_count": 46
        }
      ]
    },
    {
      "cell_type": "code",
      "source": [
        "TvP=pd.concat([test_dt,predictions],axis=1)"
      ],
      "metadata": {
        "id": "svMXirHrz5fw"
      },
      "execution_count": null,
      "outputs": []
    },
    {
      "cell_type": "code",
      "source": [
        "TvP.plot(figsize=(10,5))"
      ],
      "metadata": {
        "colab": {
          "base_uri": "https://localhost:8080/",
          "height": 337
        },
        "id": "iR2qtqV_0OZc",
        "outputId": "35e18d7f-49ae-4fa7-e81e-ab837067a0cc"
      },
      "execution_count": null,
      "outputs": [
        {
          "output_type": "execute_result",
          "data": {
            "text/plain": [
              "<matplotlib.axes._subplots.AxesSubplot at 0x7fb2ee87a210>"
            ]
          },
          "metadata": {},
          "execution_count": 49
        },
        {
          "output_type": "display_data",
          "data": {
            "text/plain": [
              "<Figure size 720x360 with 1 Axes>"
            ],
            "image/png": "[encoded data removed]"
          },
          "metadata": {
            "needs_background": "light"
          }
        }
      ]
    }
  ]
}