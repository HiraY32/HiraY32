{
  "nbformat": 4,
  "nbformat_minor": 0,
  "metadata": {
    "colab": {
      "name": " 25-5-22 S22 capm2",
      "provenance": [],
      "collapsed_sections": [],
      "include_colab_link": true
    },
    "kernelspec": {
      "name": "python3",
      "display_name": "Python 3"
    },
    "language_info": {
      "name": "python"
    }
  },
  "cells": [
    {
      "cell_type": "markdown",
      "metadata": {
        "id": "view-in-github",
        "colab_type": "text"
      },
      "source": [
        "<a href=\"https://colab.research.google.com/github/HiraY32/HiraY32/blob/main/25_5_22_S22_capm2.ipynb\" target=\"_parent\"><img src=\"https://colab.research.google.com/assets/colab-badge.svg\" alt=\"Open In Colab\"/></a>"
      ]
    },
    {
      "cell_type": "code",
      "execution_count": 1,
      "metadata": {
        "colab": {
          "base_uri": "https://localhost:8080/"
        },
        "id": "THsOPoBCcEIl",
        "outputId": "1347849f-c080-4667-af18-30e2b9c3dc6e"
      },
      "outputs": [
        {
          "output_type": "stream",
          "name": "stdout",
          "text": [
            "Looking in indexes: https://pypi.org/simple, https://us-python.pkg.dev/colab-wheels/public/simple/\n",
            "Collecting yfinance\n",
            "  Downloading yfinance-0.1.70-py2.py3-none-any.whl (26 kB)\n",
            "Requirement already satisfied: multitasking>=0.0.7 in /usr/local/lib/python3.7/dist-packages (from yfinance) (0.0.10)\n",
            "Requirement already satisfied: numpy>=1.15 in /usr/local/lib/python3.7/dist-packages (from yfinance) (1.21.6)\n",
            "Requirement already satisfied: pandas>=0.24.0 in /usr/local/lib/python3.7/dist-packages (from yfinance) (1.3.5)\n",
            "Collecting lxml>=4.5.1\n",
            "  Downloading lxml-4.8.0-cp37-cp37m-manylinux_2_17_x86_64.manylinux2014_x86_64.manylinux_2_24_x86_64.whl (6.4 MB)\n",
            "\u001b[K     |████████████████████████████████| 6.4 MB 11.0 MB/s \n",
            "\u001b[?25hCollecting requests>=2.26\n",
            "  Downloading requests-2.27.1-py2.py3-none-any.whl (63 kB)\n",
            "\u001b[K     |████████████████████████████████| 63 kB 1.8 MB/s \n",
            "\u001b[?25hRequirement already satisfied: python-dateutil>=2.7.3 in /usr/local/lib/python3.7/dist-packages (from pandas>=0.24.0->yfinance) (2.8.2)\n",
            "Requirement already satisfied: pytz>=2017.3 in /usr/local/lib/python3.7/dist-packages (from pandas>=0.24.0->yfinance) (2022.1)\n",
            "Requirement already satisfied: six>=1.5 in /usr/local/lib/python3.7/dist-packages (from python-dateutil>=2.7.3->pandas>=0.24.0->yfinance) (1.15.0)\n",
            "Requirement already satisfied: certifi>=2017.4.17 in /usr/local/lib/python3.7/dist-packages (from requests>=2.26->yfinance) (2022.5.18.1)\n",
            "Requirement already satisfied: idna<4,>=2.5 in /usr/local/lib/python3.7/dist-packages (from requests>=2.26->yfinance) (2.10)\n",
            "Requirement already satisfied: charset-normalizer~=2.0.0 in /usr/local/lib/python3.7/dist-packages (from requests>=2.26->yfinance) (2.0.12)\n",
            "Requirement already satisfied: urllib3<1.27,>=1.21.1 in /usr/local/lib/python3.7/dist-packages (from requests>=2.26->yfinance) (1.24.3)\n",
            "Installing collected packages: requests, lxml, yfinance\n",
            "  Attempting uninstall: requests\n",
            "    Found existing installation: requests 2.23.0\n",
            "    Uninstalling requests-2.23.0:\n",
            "      Successfully uninstalled requests-2.23.0\n",
            "  Attempting uninstall: lxml\n",
            "    Found existing installation: lxml 4.2.6\n",
            "    Uninstalling lxml-4.2.6:\n",
            "      Successfully uninstalled lxml-4.2.6\n",
            "\u001b[31mERROR: pip's dependency resolver does not currently take into account all the packages that are installed. This behaviour is the source of the following dependency conflicts.\n",
            "google-colab 1.0.0 requires requests~=2.23.0, but you have requests 2.27.1 which is incompatible.\n",
            "datascience 0.10.6 requires folium==0.2.1, but you have folium 0.8.3 which is incompatible.\u001b[0m\n",
            "Successfully installed lxml-4.8.0 requests-2.27.1 yfinance-0.1.70\n"
          ]
        }
      ],
      "source": [
        "!pip install yfinance"
      ]
    },
    {
      "cell_type": "code",
      "source": [
        "import yfinance as yf"
      ],
      "metadata": {
        "id": "Bc_qrWWkchgB"
      },
      "execution_count": 2,
      "outputs": []
    },
    {
      "cell_type": "code",
      "source": [
        "NIFTY=yf.Ticker('^NSEI')"
      ],
      "metadata": {
        "id": "BHKxZOQvcz1u"
      },
      "execution_count": 3,
      "outputs": []
    },
    {
      "cell_type": "code",
      "source": [
        "KOTAKBANK=yf.Ticker('KOTAKBANK.NS')"
      ],
      "metadata": {
        "id": "Z-tx_ud9ddZj"
      },
      "execution_count": 4,
      "outputs": []
    },
    {
      "cell_type": "code",
      "source": [
        "NIFTY_d=NIFTY.history(period='10y',auto_adjust=\"True\")['Close']\n",
        "KOTAKBANK_d=KOTAKBANK.history(period='10y',auto_adjust=\"True\")['Close']"
      ],
      "metadata": {
        "id": "YDXh_Momd7fX"
      },
      "execution_count": 5,
      "outputs": []
    },
    {
      "cell_type": "code",
      "source": [
        "NIFTY_m=NIFTY_d.resample('1M').last()\n",
        "KOTAKBANK_m=KOTAKBANK_d.resample('1M').last()"
      ],
      "metadata": {
        "id": "5UYEqO9DfN3v"
      },
      "execution_count": 6,
      "outputs": []
    },
    {
      "cell_type": "code",
      "source": [
        "NIFTY_mr=NIFTY_m.pct_change().dropna()\n",
        "KOTAKBANK_mr=KOTAKBANK_m.pct_change().dropna()"
      ],
      "metadata": {
        "id": "k_KFOgWjfvkI"
      },
      "execution_count": 7,
      "outputs": []
    },
    {
      "cell_type": "code",
      "source": [
        "import pandas as pd"
      ],
      "metadata": {
        "id": "uOIZdqvSgV72"
      },
      "execution_count": 8,
      "outputs": []
    },
    {
      "cell_type": "code",
      "source": [
        "NK_dt=pd.merge(NIFTY_mr,KOTAKBANK_mr,on='Date')\n",
        "NK_dt.head()"
      ],
      "metadata": {
        "colab": {
          "base_uri": "https://localhost:8080/",
          "height": 238
        },
        "id": "ooLtCYFCgZ-I",
        "outputId": "fd6dccfd-65d9-4044-828c-a947c3d8d592"
      },
      "execution_count": 9,
      "outputs": [
        {
          "output_type": "execute_result",
          "data": {
            "text/plain": [
              "             Close_x   Close_y\n",
              "Date                          \n",
              "2012-06-30  0.072021  0.051109\n",
              "2012-07-31 -0.009453 -0.094570\n",
              "2012-08-31  0.005642  0.071582\n",
              "2012-09-30  0.084587  0.130030\n",
              "2012-10-31 -0.014658 -0.069364"
            ],
            "text/html": [
              "\n",
              "  <div id=\"df-fac50bdf-bdab-4261-8ec6-62f3a9402e4d\">\n",
              "    <div class=\"colab-df-container\">\n",
              "      <div>\n",
              "<style scoped>\n",
              "    .dataframe tbody tr th:only-of-type {\n",
              "        vertical-align: middle;\n",
              "    }\n",
              "\n",
              "    .dataframe tbody tr th {\n",
              "        vertical-align: top;\n",
              "    }\n",
              "\n",
              "    .dataframe thead th {\n",
              "        text-align: right;\n",
              "    }\n",
              "</style>\n",
              "<table border=\"1\" class=\"dataframe\">\n",
              "  <thead>\n",
              "    <tr style=\"text-align: right;\">\n",
              "      <th></th>\n",
              "      <th>Close_x</th>\n",
              "      <th>Close_y</th>\n",
              "    </tr>\n",
              "    <tr>\n",
              "      <th>Date</th>\n",
              "      <th></th>\n",
              "      <th></th>\n",
              "    </tr>\n",
              "  </thead>\n",
              "  <tbody>\n",
              "    <tr>\n",
              "      <th>2012-06-30</th>\n",
              "      <td>0.072021</td>\n",
              "      <td>0.051109</td>\n",
              "    </tr>\n",
              "    <tr>\n",
              "      <th>2012-07-31</th>\n",
              "      <td>-0.009453</td>\n",
              "      <td>-0.094570</td>\n",
              "    </tr>\n",
              "    <tr>\n",
              "      <th>2012-08-31</th>\n",
              "      <td>0.005642</td>\n",
              "      <td>0.071582</td>\n",
              "    </tr>\n",
              "    <tr>\n",
              "      <th>2012-09-30</th>\n",
              "      <td>0.084587</td>\n",
              "      <td>0.130030</td>\n",
              "    </tr>\n",
              "    <tr>\n",
              "      <th>2012-10-31</th>\n",
              "      <td>-0.014658</td>\n",
              "      <td>-0.069364</td>\n",
              "    </tr>\n",
              "  </tbody>\n",
              "</table>\n",
              "</div>\n",
              "      <button class=\"colab-df-convert\" onclick=\"convertToInteractive('df-fac50bdf-bdab-4261-8ec6-62f3a9402e4d')\"\n",
              "              title=\"Convert this dataframe to an interactive table.\"\n",
              "              style=\"display:none;\">\n",
              "        \n",
              "  <svg xmlns=\"http://www.w3.org/2000/svg\" height=\"24px\"viewBox=\"0 0 24 24\"\n",
              "       width=\"24px\">\n",
              "    <path d=\"M0 0h24v24H0V0z\" fill=\"none\"/>\n",
              "    <path d=\"M18.56 5.44l.94 2.06.94-2.06 2.06-.94-2.06-.94-.94-2.06-.94 2.06-2.06.94zm-11 1L8.5 8.5l.94-2.06 2.06-.94-2.06-.94L8.5 2.5l-.94 2.06-2.06.94zm10 10l.94 2.06.94-2.06 2.06-.94-2.06-.94-.94-2.06-.94 2.06-2.06.94z\"/><path d=\"M17.41 7.96l-1.37-1.37c-.4-.4-.92-.59-1.43-.59-.52 0-1.04.2-1.43.59L10.3 9.45l-7.72 7.72c-.78.78-.78 2.05 0 2.83L4 21.41c.39.39.9.59 1.41.59.51 0 1.02-.2 1.41-.59l7.78-7.78 2.81-2.81c.8-.78.8-2.07 0-2.86zM5.41 20L4 18.59l7.72-7.72 1.47 1.35L5.41 20z\"/>\n",
              "  </svg>\n",
              "      </button>\n",
              "      \n",
              "  <style>\n",
              "    .colab-df-container {\n",
              "      display:flex;\n",
              "      flex-wrap:wrap;\n",
              "      gap: 12px;\n",
              "    }\n",
              "\n",
              "    .colab-df-convert {\n",
              "      background-color: #E8F0FE;\n",
              "      border: none;\n",
              "      border-radius: 50%;\n",
              "      cursor: pointer;\n",
              "      display: none;\n",
              "      fill: #1967D2;\n",
              "      height: 32px;\n",
              "      padding: 0 0 0 0;\n",
              "      width: 32px;\n",
              "    }\n",
              "\n",
              "    .colab-df-convert:hover {\n",
              "      background-color: #E2EBFA;\n",
              "      box-shadow: 0px 1px 2px rgba(60, 64, 67, 0.3), 0px 1px 3px 1px rgba(60, 64, 67, 0.15);\n",
              "      fill: #174EA6;\n",
              "    }\n",
              "\n",
              "    [theme=dark] .colab-df-convert {\n",
              "      background-color: #3B4455;\n",
              "      fill: #D2E3FC;\n",
              "    }\n",
              "\n",
              "    [theme=dark] .colab-df-convert:hover {\n",
              "      background-color: #434B5C;\n",
              "      box-shadow: 0px 1px 3px 1px rgba(0, 0, 0, 0.15);\n",
              "      filter: drop-shadow(0px 1px 2px rgba(0, 0, 0, 0.3));\n",
              "      fill: #FFFFFF;\n",
              "    }\n",
              "  </style>\n",
              "\n",
              "      <script>\n",
              "        const buttonEl =\n",
              "          document.querySelector('#df-fac50bdf-bdab-4261-8ec6-62f3a9402e4d button.colab-df-convert');\n",
              "        buttonEl.style.display =\n",
              "          google.colab.kernel.accessAllowed ? 'block' : 'none';\n",
              "\n",
              "        async function convertToInteractive(key) {\n",
              "          const element = document.querySelector('#df-fac50bdf-bdab-4261-8ec6-62f3a9402e4d');\n",
              "          const dataTable =\n",
              "            await google.colab.kernel.invokeFunction('convertToInteractive',\n",
              "                                                     [key], {});\n",
              "          if (!dataTable) return;\n",
              "\n",
              "          const docLinkHtml = 'Like what you see? Visit the ' +\n",
              "            '<a target=\"_blank\" href=https://colab.research.google.com/notebooks/data_table.ipynb>data table notebook</a>'\n",
              "            + ' to learn more about interactive tables.';\n",
              "          element.innerHTML = '';\n",
              "          dataTable['output_type'] = 'display_data';\n",
              "          await google.colab.output.renderOutput(dataTable, element);\n",
              "          const docLink = document.createElement('div');\n",
              "          docLink.innerHTML = docLinkHtml;\n",
              "          element.appendChild(docLink);\n",
              "        }\n",
              "      </script>\n",
              "    </div>\n",
              "  </div>\n",
              "  "
            ]
          },
          "metadata": {},
          "execution_count": 9
        }
      ]
    },
    {
      "cell_type": "code",
      "source": [
        "NK_dt.rename(columns={'Close_x':'NIFTY_mr','Close_y':'KOTAKBANK_mr'},inplace=True)"
      ],
      "metadata": {
        "id": "CpeMWEjFhJBQ"
      },
      "execution_count": 10,
      "outputs": []
    },
    {
      "cell_type": "code",
      "source": [
        "NK_dt"
      ],
      "metadata": {
        "colab": {
          "base_uri": "https://localhost:8080/",
          "height": 455
        },
        "id": "s1avk90Zh44s",
        "outputId": "1f4370be-6df7-443a-dd47-959075d923dc"
      },
      "execution_count": 11,
      "outputs": [
        {
          "output_type": "execute_result",
          "data": {
            "text/plain": [
              "            NIFTY_mr  KOTAKBANK_mr\n",
              "Date                              \n",
              "2012-06-30  0.072021      0.051109\n",
              "2012-07-31 -0.009453     -0.094570\n",
              "2012-08-31  0.005642      0.071582\n",
              "2012-09-30  0.084587      0.130030\n",
              "2012-10-31 -0.014658     -0.069364\n",
              "...              ...           ...\n",
              "2022-01-31 -0.000818      0.034046\n",
              "2022-02-28 -0.031485     -0.007807\n",
              "2022-03-31  0.039946     -0.048243\n",
              "2022-04-30 -0.020739      0.021039\n",
              "2022-05-31 -0.054518      0.065838\n",
              "\n",
              "[120 rows x 2 columns]"
            ],
            "text/html": [
              "\n",
              "  <div id=\"df-152847e1-dd71-46ff-8e66-695ef8eb67c5\">\n",
              "    <div class=\"colab-df-container\">\n",
              "      <div>\n",
              "<style scoped>\n",
              "    .dataframe tbody tr th:only-of-type {\n",
              "        vertical-align: middle;\n",
              "    }\n",
              "\n",
              "    .dataframe tbody tr th {\n",
              "        vertical-align: top;\n",
              "    }\n",
              "\n",
              "    .dataframe thead th {\n",
              "        text-align: right;\n",
              "    }\n",
              "</style>\n",
              "<table border=\"1\" class=\"dataframe\">\n",
              "  <thead>\n",
              "    <tr style=\"text-align: right;\">\n",
              "      <th></th>\n",
              "      <th>NIFTY_mr</th>\n",
              "      <th>KOTAKBANK_mr</th>\n",
              "    </tr>\n",
              "    <tr>\n",
              "      <th>Date</th>\n",
              "      <th></th>\n",
              "      <th></th>\n",
              "    </tr>\n",
              "  </thead>\n",
              "  <tbody>\n",
              "    <tr>\n",
              "      <th>2012-06-30</th>\n",
              "      <td>0.072021</td>\n",
              "      <td>0.051109</td>\n",
              "    </tr>\n",
              "    <tr>\n",
              "      <th>2012-07-31</th>\n",
              "      <td>-0.009453</td>\n",
              "      <td>-0.094570</td>\n",
              "    </tr>\n",
              "    <tr>\n",
              "      <th>2012-08-31</th>\n",
              "      <td>0.005642</td>\n",
              "      <td>0.071582</td>\n",
              "    </tr>\n",
              "    <tr>\n",
              "      <th>2012-09-30</th>\n",
              "      <td>0.084587</td>\n",
              "      <td>0.130030</td>\n",
              "    </tr>\n",
              "    <tr>\n",
              "      <th>2012-10-31</th>\n",
              "      <td>-0.014658</td>\n",
              "      <td>-0.069364</td>\n",
              "    </tr>\n",
              "    <tr>\n",
              "      <th>...</th>\n",
              "      <td>...</td>\n",
              "      <td>...</td>\n",
              "    </tr>\n",
              "    <tr>\n",
              "      <th>2022-01-31</th>\n",
              "      <td>-0.000818</td>\n",
              "      <td>0.034046</td>\n",
              "    </tr>\n",
              "    <tr>\n",
              "      <th>2022-02-28</th>\n",
              "      <td>-0.031485</td>\n",
              "      <td>-0.007807</td>\n",
              "    </tr>\n",
              "    <tr>\n",
              "      <th>2022-03-31</th>\n",
              "      <td>0.039946</td>\n",
              "      <td>-0.048243</td>\n",
              "    </tr>\n",
              "    <tr>\n",
              "      <th>2022-04-30</th>\n",
              "      <td>-0.020739</td>\n",
              "      <td>0.021039</td>\n",
              "    </tr>\n",
              "    <tr>\n",
              "      <th>2022-05-31</th>\n",
              "      <td>-0.054518</td>\n",
              "      <td>0.065838</td>\n",
              "    </tr>\n",
              "  </tbody>\n",
              "</table>\n",
              "<p>120 rows × 2 columns</p>\n",
              "</div>\n",
              "      <button class=\"colab-df-convert\" onclick=\"convertToInteractive('df-152847e1-dd71-46ff-8e66-695ef8eb67c5')\"\n",
              "              title=\"Convert this dataframe to an interactive table.\"\n",
              "              style=\"display:none;\">\n",
              "        \n",
              "  <svg xmlns=\"http://www.w3.org/2000/svg\" height=\"24px\"viewBox=\"0 0 24 24\"\n",
              "       width=\"24px\">\n",
              "    <path d=\"M0 0h24v24H0V0z\" fill=\"none\"/>\n",
              "    <path d=\"M18.56 5.44l.94 2.06.94-2.06 2.06-.94-2.06-.94-.94-2.06-.94 2.06-2.06.94zm-11 1L8.5 8.5l.94-2.06 2.06-.94-2.06-.94L8.5 2.5l-.94 2.06-2.06.94zm10 10l.94 2.06.94-2.06 2.06-.94-2.06-.94-.94-2.06-.94 2.06-2.06.94z\"/><path d=\"M17.41 7.96l-1.37-1.37c-.4-.4-.92-.59-1.43-.59-.52 0-1.04.2-1.43.59L10.3 9.45l-7.72 7.72c-.78.78-.78 2.05 0 2.83L4 21.41c.39.39.9.59 1.41.59.51 0 1.02-.2 1.41-.59l7.78-7.78 2.81-2.81c.8-.78.8-2.07 0-2.86zM5.41 20L4 18.59l7.72-7.72 1.47 1.35L5.41 20z\"/>\n",
              "  </svg>\n",
              "      </button>\n",
              "      \n",
              "  <style>\n",
              "    .colab-df-container {\n",
              "      display:flex;\n",
              "      flex-wrap:wrap;\n",
              "      gap: 12px;\n",
              "    }\n",
              "\n",
              "    .colab-df-convert {\n",
              "      background-color: #E8F0FE;\n",
              "      border: none;\n",
              "      border-radius: 50%;\n",
              "      cursor: pointer;\n",
              "      display: none;\n",
              "      fill: #1967D2;\n",
              "      height: 32px;\n",
              "      padding: 0 0 0 0;\n",
              "      width: 32px;\n",
              "    }\n",
              "\n",
              "    .colab-df-convert:hover {\n",
              "      background-color: #E2EBFA;\n",
              "      box-shadow: 0px 1px 2px rgba(60, 64, 67, 0.3), 0px 1px 3px 1px rgba(60, 64, 67, 0.15);\n",
              "      fill: #174EA6;\n",
              "    }\n",
              "\n",
              "    [theme=dark] .colab-df-convert {\n",
              "      background-color: #3B4455;\n",
              "      fill: #D2E3FC;\n",
              "    }\n",
              "\n",
              "    [theme=dark] .colab-df-convert:hover {\n",
              "      background-color: #434B5C;\n",
              "      box-shadow: 0px 1px 3px 1px rgba(0, 0, 0, 0.15);\n",
              "      filter: drop-shadow(0px 1px 2px rgba(0, 0, 0, 0.3));\n",
              "      fill: #FFFFFF;\n",
              "    }\n",
              "  </style>\n",
              "\n",
              "      <script>\n",
              "        const buttonEl =\n",
              "          document.querySelector('#df-152847e1-dd71-46ff-8e66-695ef8eb67c5 button.colab-df-convert');\n",
              "        buttonEl.style.display =\n",
              "          google.colab.kernel.accessAllowed ? 'block' : 'none';\n",
              "\n",
              "        async function convertToInteractive(key) {\n",
              "          const element = document.querySelector('#df-152847e1-dd71-46ff-8e66-695ef8eb67c5');\n",
              "          const dataTable =\n",
              "            await google.colab.kernel.invokeFunction('convertToInteractive',\n",
              "                                                     [key], {});\n",
              "          if (!dataTable) return;\n",
              "\n",
              "          const docLinkHtml = 'Like what you see? Visit the ' +\n",
              "            '<a target=\"_blank\" href=https://colab.research.google.com/notebooks/data_table.ipynb>data table notebook</a>'\n",
              "            + ' to learn more about interactive tables.';\n",
              "          element.innerHTML = '';\n",
              "          dataTable['output_type'] = 'display_data';\n",
              "          await google.colab.output.renderOutput(dataTable, element);\n",
              "          const docLink = document.createElement('div');\n",
              "          docLink.innerHTML = docLinkHtml;\n",
              "          element.appendChild(docLink);\n",
              "        }\n",
              "      </script>\n",
              "    </div>\n",
              "  </div>\n",
              "  "
            ]
          },
          "metadata": {},
          "execution_count": 11
        }
      ]
    },
    {
      "cell_type": "code",
      "source": [
        "NK_dt.plot(figsize=(10,4))"
      ],
      "metadata": {
        "colab": {
          "base_uri": "https://localhost:8080/",
          "height": 296
        },
        "id": "knvirJoRzbdI",
        "outputId": "3917fc1f-606d-475b-b9ab-a48d04cd8eb1"
      },
      "execution_count": 12,
      "outputs": [
        {
          "output_type": "execute_result",
          "data": {
            "text/plain": [
              "<matplotlib.axes._subplots.AxesSubplot at 0x7f8df67fa890>"
            ]
          },
          "metadata": {},
          "execution_count": 12
        },
        {
          "output_type": "display_data",
          "data": {
            "text/plain": [
              "<Figure size 720x288 with 1 Axes>"
            ],
            "image/png": "[encoded data removed]"
          },
          "metadata": {
            "needs_background": "light"
          }
        }
      ]
    },
    {
      "cell_type": "code",
      "source": [
        "train_dt=NK_dt[:-12].dropna()\n",
        "test_dt=NK_dt[-12:].dropna()"
      ],
      "metadata": {
        "id": "V0baAmMLibhx"
      },
      "execution_count": 13,
      "outputs": []
    },
    {
      "cell_type": "code",
      "source": [
        "train_dt.head()"
      ],
      "metadata": {
        "colab": {
          "base_uri": "https://localhost:8080/",
          "height": 238
        },
        "id": "FnPn_Jonk5jX",
        "outputId": "50b9e0c3-5fef-4519-ce07-25455950ee80"
      },
      "execution_count": 14,
      "outputs": [
        {
          "output_type": "execute_result",
          "data": {
            "text/plain": [
              "            NIFTY_mr  KOTAKBANK_mr\n",
              "Date                              \n",
              "2012-06-30  0.072021      0.051109\n",
              "2012-07-31 -0.009453     -0.094570\n",
              "2012-08-31  0.005642      0.071582\n",
              "2012-09-30  0.084587      0.130030\n",
              "2012-10-31 -0.014658     -0.069364"
            ],
            "text/html": [
              "\n",
              "  <div id=\"df-adbc6586-91ae-48a0-ab34-af222abbc67b\">\n",
              "    <div class=\"colab-df-container\">\n",
              "      <div>\n",
              "<style scoped>\n",
              "    .dataframe tbody tr th:only-of-type {\n",
              "        vertical-align: middle;\n",
              "    }\n",
              "\n",
              "    .dataframe tbody tr th {\n",
              "        vertical-align: top;\n",
              "    }\n",
              "\n",
              "    .dataframe thead th {\n",
              "        text-align: right;\n",
              "    }\n",
              "</style>\n",
              "<table border=\"1\" class=\"dataframe\">\n",
              "  <thead>\n",
              "    <tr style=\"text-align: right;\">\n",
              "      <th></th>\n",
              "      <th>NIFTY_mr</th>\n",
              "      <th>KOTAKBANK_mr</th>\n",
              "    </tr>\n",
              "    <tr>\n",
              "      <th>Date</th>\n",
              "      <th></th>\n",
              "      <th></th>\n",
              "    </tr>\n",
              "  </thead>\n",
              "  <tbody>\n",
              "    <tr>\n",
              "      <th>2012-06-30</th>\n",
              "      <td>0.072021</td>\n",
              "      <td>0.051109</td>\n",
              "    </tr>\n",
              "    <tr>\n",
              "      <th>2012-07-31</th>\n",
              "      <td>-0.009453</td>\n",
              "      <td>-0.094570</td>\n",
              "    </tr>\n",
              "    <tr>\n",
              "      <th>2012-08-31</th>\n",
              "      <td>0.005642</td>\n",
              "      <td>0.071582</td>\n",
              "    </tr>\n",
              "    <tr>\n",
              "      <th>2012-09-30</th>\n",
              "      <td>0.084587</td>\n",
              "      <td>0.130030</td>\n",
              "    </tr>\n",
              "    <tr>\n",
              "      <th>2012-10-31</th>\n",
              "      <td>-0.014658</td>\n",
              "      <td>-0.069364</td>\n",
              "    </tr>\n",
              "  </tbody>\n",
              "</table>\n",
              "</div>\n",
              "      <button class=\"colab-df-convert\" onclick=\"convertToInteractive('df-adbc6586-91ae-48a0-ab34-af222abbc67b')\"\n",
              "              title=\"Convert this dataframe to an interactive table.\"\n",
              "              style=\"display:none;\">\n",
              "        \n",
              "  <svg xmlns=\"http://www.w3.org/2000/svg\" height=\"24px\"viewBox=\"0 0 24 24\"\n",
              "       width=\"24px\">\n",
              "    <path d=\"M0 0h24v24H0V0z\" fill=\"none\"/>\n",
              "    <path d=\"M18.56 5.44l.94 2.06.94-2.06 2.06-.94-2.06-.94-.94-2.06-.94 2.06-2.06.94zm-11 1L8.5 8.5l.94-2.06 2.06-.94-2.06-.94L8.5 2.5l-.94 2.06-2.06.94zm10 10l.94 2.06.94-2.06 2.06-.94-2.06-.94-.94-2.06-.94 2.06-2.06.94z\"/><path d=\"M17.41 7.96l-1.37-1.37c-.4-.4-.92-.59-1.43-.59-.52 0-1.04.2-1.43.59L10.3 9.45l-7.72 7.72c-.78.78-.78 2.05 0 2.83L4 21.41c.39.39.9.59 1.41.59.51 0 1.02-.2 1.41-.59l7.78-7.78 2.81-2.81c.8-.78.8-2.07 0-2.86zM5.41 20L4 18.59l7.72-7.72 1.47 1.35L5.41 20z\"/>\n",
              "  </svg>\n",
              "      </button>\n",
              "      \n",
              "  <style>\n",
              "    .colab-df-container {\n",
              "      display:flex;\n",
              "      flex-wrap:wrap;\n",
              "      gap: 12px;\n",
              "    }\n",
              "\n",
              "    .colab-df-convert {\n",
              "      background-color: #E8F0FE;\n",
              "      border: none;\n",
              "      border-radius: 50%;\n",
              "      cursor: pointer;\n",
              "      display: none;\n",
              "      fill: #1967D2;\n",
              "      height: 32px;\n",
              "      padding: 0 0 0 0;\n",
              "      width: 32px;\n",
              "    }\n",
              "\n",
              "    .colab-df-convert:hover {\n",
              "      background-color: #E2EBFA;\n",
              "      box-shadow: 0px 1px 2px rgba(60, 64, 67, 0.3), 0px 1px 3px 1px rgba(60, 64, 67, 0.15);\n",
              "      fill: #174EA6;\n",
              "    }\n",
              "\n",
              "    [theme=dark] .colab-df-convert {\n",
              "      background-color: #3B4455;\n",
              "      fill: #D2E3FC;\n",
              "    }\n",
              "\n",
              "    [theme=dark] .colab-df-convert:hover {\n",
              "      background-color: #434B5C;\n",
              "      box-shadow: 0px 1px 3px 1px rgba(0, 0, 0, 0.15);\n",
              "      filter: drop-shadow(0px 1px 2px rgba(0, 0, 0, 0.3));\n",
              "      fill: #FFFFFF;\n",
              "    }\n",
              "  </style>\n",
              "\n",
              "      <script>\n",
              "        const buttonEl =\n",
              "          document.querySelector('#df-adbc6586-91ae-48a0-ab34-af222abbc67b button.colab-df-convert');\n",
              "        buttonEl.style.display =\n",
              "          google.colab.kernel.accessAllowed ? 'block' : 'none';\n",
              "\n",
              "        async function convertToInteractive(key) {\n",
              "          const element = document.querySelector('#df-adbc6586-91ae-48a0-ab34-af222abbc67b');\n",
              "          const dataTable =\n",
              "            await google.colab.kernel.invokeFunction('convertToInteractive',\n",
              "                                                     [key], {});\n",
              "          if (!dataTable) return;\n",
              "\n",
              "          const docLinkHtml = 'Like what you see? Visit the ' +\n",
              "            '<a target=\"_blank\" href=https://colab.research.google.com/notebooks/data_table.ipynb>data table notebook</a>'\n",
              "            + ' to learn more about interactive tables.';\n",
              "          element.innerHTML = '';\n",
              "          dataTable['output_type'] = 'display_data';\n",
              "          await google.colab.output.renderOutput(dataTable, element);\n",
              "          const docLink = document.createElement('div');\n",
              "          docLink.innerHTML = docLinkHtml;\n",
              "          element.appendChild(docLink);\n",
              "        }\n",
              "      </script>\n",
              "    </div>\n",
              "  </div>\n",
              "  "
            ]
          },
          "metadata": {},
          "execution_count": 14
        }
      ]
    },
    {
      "cell_type": "markdown",
      "source": [
        "Now we will use train data for analysis\n",
        "\n",
        "first we will use adf test to check the stationarity of the data"
      ],
      "metadata": {
        "id": "brOLV53UkUqe"
      }
    },
    {
      "cell_type": "markdown",
      "source": [
        ""
      ],
      "metadata": {
        "id": "GgsFEWl4oGFl"
      }
    },
    {
      "cell_type": "code",
      "source": [
        "from statsmodels.tsa.stattools import adfuller"
      ],
      "metadata": {
        "id": "Jdo7E-KTklf5",
        "colab": {
          "base_uri": "https://localhost:8080/"
        },
        "outputId": "8ea11b51-578b-49b0-bd85-ae3da7e7882f"
      },
      "execution_count": 15,
      "outputs": [
        {
          "output_type": "stream",
          "name": "stderr",
          "text": [
            "/usr/local/lib/python3.7/dist-packages/statsmodels/tools/_testing.py:19: FutureWarning: pandas.util.testing is deprecated. Use the functions in the public API at pandas.testing instead.\n",
            "  import pandas.util.testing as tm\n"
          ]
        }
      ]
    },
    {
      "cell_type": "code",
      "source": [
        "print('NIFTY_mr')\n",
        "adfuller(NK_dt.NIFTY_mr)[1]"
      ],
      "metadata": {
        "colab": {
          "base_uri": "https://localhost:8080/"
        },
        "id": "6U8OeW9dlJup",
        "outputId": "ce0290ea-7d54-4586-e600-033135e5e871"
      },
      "execution_count": 16,
      "outputs": [
        {
          "output_type": "stream",
          "name": "stdout",
          "text": [
            "NIFTY_mr\n"
          ]
        },
        {
          "output_type": "execute_result",
          "data": {
            "text/plain": [
              "3.336371252351134e-21"
            ]
          },
          "metadata": {},
          "execution_count": 16
        }
      ]
    },
    {
      "cell_type": "code",
      "source": [
        "NIFTY_mr1=adfuller(NK_dt.NIFTY_mr.diff().dropna())[1]\n",
        "NIFTY_mr1"
      ],
      "metadata": {
        "colab": {
          "base_uri": "https://localhost:8080/"
        },
        "id": "Sj9Ra5XvoKLC",
        "outputId": "7d8db2b7-bab5-4aba-efd7-cf5b938581e4"
      },
      "execution_count": 17,
      "outputs": [
        {
          "output_type": "execute_result",
          "data": {
            "text/plain": [
              "7.89142440331072e-08"
            ]
          },
          "metadata": {},
          "execution_count": 17
        }
      ]
    },
    {
      "cell_type": "code",
      "source": [
        "print('KOTAKBANK_mr')\n",
        "adfuller(NK_dt.KOTAKBANK_mr)[1]\n"
      ],
      "metadata": {
        "colab": {
          "base_uri": "https://localhost:8080/"
        },
        "id": "29CxJDkXlHR9",
        "outputId": "56215665-fb6d-4eed-ef6e-509aa0806a8b"
      },
      "execution_count": 18,
      "outputs": [
        {
          "output_type": "stream",
          "name": "stdout",
          "text": [
            "KOTAKBANK_mr\n"
          ]
        },
        {
          "output_type": "execute_result",
          "data": {
            "text/plain": [
              "1.9589194092380086e-06"
            ]
          },
          "metadata": {},
          "execution_count": 18
        }
      ]
    },
    {
      "cell_type": "code",
      "source": [
        "KOTAKBANK_mr1=adfuller(NK_dt.KOTAKBANK_mr.diff().dropna())[1]\n",
        "KOTAKBANK_mr1"
      ],
      "metadata": {
        "colab": {
          "base_uri": "https://localhost:8080/"
        },
        "id": "Wv037YpSn0LM",
        "outputId": "4c68b8e6-8e12-4cff-e11c-cffb22a9b3bc"
      },
      "execution_count": 19,
      "outputs": [
        {
          "output_type": "execute_result",
          "data": {
            "text/plain": [
              "8.311400551938835e-07"
            ]
          },
          "metadata": {},
          "execution_count": 19
        }
      ]
    },
    {
      "cell_type": "code",
      "source": [
        "train_dt1=train_dt.diff().dropna()\n",
        "train_dt1.head()"
      ],
      "metadata": {
        "colab": {
          "base_uri": "https://localhost:8080/",
          "height": 238
        },
        "id": "GfNj8X0qpr13",
        "outputId": "e5294bb4-dad6-4239-f9a9-6a71473dd578"
      },
      "execution_count": 20,
      "outputs": [
        {
          "output_type": "execute_result",
          "data": {
            "text/plain": [
              "            NIFTY_mr  KOTAKBANK_mr\n",
              "Date                              \n",
              "2012-07-31 -0.081474     -0.145679\n",
              "2012-08-31  0.015094      0.166152\n",
              "2012-09-30  0.078945      0.058448\n",
              "2012-10-31 -0.099245     -0.199394\n",
              "2012-11-30  0.060951      0.179840"
            ],
            "text/html": [
              "\n",
              "  <div id=\"df-2ab1603b-ba64-4b40-9b22-59ca59b9b688\">\n",
              "    <div class=\"colab-df-container\">\n",
              "      <div>\n",
              "<style scoped>\n",
              "    .dataframe tbody tr th:only-of-type {\n",
              "        vertical-align: middle;\n",
              "    }\n",
              "\n",
              "    .dataframe tbody tr th {\n",
              "        vertical-align: top;\n",
              "    }\n",
              "\n",
              "    .dataframe thead th {\n",
              "        text-align: right;\n",
              "    }\n",
              "</style>\n",
              "<table border=\"1\" class=\"dataframe\">\n",
              "  <thead>\n",
              "    <tr style=\"text-align: right;\">\n",
              "      <th></th>\n",
              "      <th>NIFTY_mr</th>\n",
              "      <th>KOTAKBANK_mr</th>\n",
              "    </tr>\n",
              "    <tr>\n",
              "      <th>Date</th>\n",
              "      <th></th>\n",
              "      <th></th>\n",
              "    </tr>\n",
              "  </thead>\n",
              "  <tbody>\n",
              "    <tr>\n",
              "      <th>2012-07-31</th>\n",
              "      <td>-0.081474</td>\n",
              "      <td>-0.145679</td>\n",
              "    </tr>\n",
              "    <tr>\n",
              "      <th>2012-08-31</th>\n",
              "      <td>0.015094</td>\n",
              "      <td>0.166152</td>\n",
              "    </tr>\n",
              "    <tr>\n",
              "      <th>2012-09-30</th>\n",
              "      <td>0.078945</td>\n",
              "      <td>0.058448</td>\n",
              "    </tr>\n",
              "    <tr>\n",
              "      <th>2012-10-31</th>\n",
              "      <td>-0.099245</td>\n",
              "      <td>-0.199394</td>\n",
              "    </tr>\n",
              "    <tr>\n",
              "      <th>2012-11-30</th>\n",
              "      <td>0.060951</td>\n",
              "      <td>0.179840</td>\n",
              "    </tr>\n",
              "  </tbody>\n",
              "</table>\n",
              "</div>\n",
              "      <button class=\"colab-df-convert\" onclick=\"convertToInteractive('df-2ab1603b-ba64-4b40-9b22-59ca59b9b688')\"\n",
              "              title=\"Convert this dataframe to an interactive table.\"\n",
              "              style=\"display:none;\">\n",
              "        \n",
              "  <svg xmlns=\"http://www.w3.org/2000/svg\" height=\"24px\"viewBox=\"0 0 24 24\"\n",
              "       width=\"24px\">\n",
              "    <path d=\"M0 0h24v24H0V0z\" fill=\"none\"/>\n",
              "    <path d=\"M18.56 5.44l.94 2.06.94-2.06 2.06-.94-2.06-.94-.94-2.06-.94 2.06-2.06.94zm-11 1L8.5 8.5l.94-2.06 2.06-.94-2.06-.94L8.5 2.5l-.94 2.06-2.06.94zm10 10l.94 2.06.94-2.06 2.06-.94-2.06-.94-.94-2.06-.94 2.06-2.06.94z\"/><path d=\"M17.41 7.96l-1.37-1.37c-.4-.4-.92-.59-1.43-.59-.52 0-1.04.2-1.43.59L10.3 9.45l-7.72 7.72c-.78.78-.78 2.05 0 2.83L4 21.41c.39.39.9.59 1.41.59.51 0 1.02-.2 1.41-.59l7.78-7.78 2.81-2.81c.8-.78.8-2.07 0-2.86zM5.41 20L4 18.59l7.72-7.72 1.47 1.35L5.41 20z\"/>\n",
              "  </svg>\n",
              "      </button>\n",
              "      \n",
              "  <style>\n",
              "    .colab-df-container {\n",
              "      display:flex;\n",
              "      flex-wrap:wrap;\n",
              "      gap: 12px;\n",
              "    }\n",
              "\n",
              "    .colab-df-convert {\n",
              "      background-color: #E8F0FE;\n",
              "      border: none;\n",
              "      border-radius: 50%;\n",
              "      cursor: pointer;\n",
              "      display: none;\n",
              "      fill: #1967D2;\n",
              "      height: 32px;\n",
              "      padding: 0 0 0 0;\n",
              "      width: 32px;\n",
              "    }\n",
              "\n",
              "    .colab-df-convert:hover {\n",
              "      background-color: #E2EBFA;\n",
              "      box-shadow: 0px 1px 2px rgba(60, 64, 67, 0.3), 0px 1px 3px 1px rgba(60, 64, 67, 0.15);\n",
              "      fill: #174EA6;\n",
              "    }\n",
              "\n",
              "    [theme=dark] .colab-df-convert {\n",
              "      background-color: #3B4455;\n",
              "      fill: #D2E3FC;\n",
              "    }\n",
              "\n",
              "    [theme=dark] .colab-df-convert:hover {\n",
              "      background-color: #434B5C;\n",
              "      box-shadow: 0px 1px 3px 1px rgba(0, 0, 0, 0.15);\n",
              "      filter: drop-shadow(0px 1px 2px rgba(0, 0, 0, 0.3));\n",
              "      fill: #FFFFFF;\n",
              "    }\n",
              "  </style>\n",
              "\n",
              "      <script>\n",
              "        const buttonEl =\n",
              "          document.querySelector('#df-2ab1603b-ba64-4b40-9b22-59ca59b9b688 button.colab-df-convert');\n",
              "        buttonEl.style.display =\n",
              "          google.colab.kernel.accessAllowed ? 'block' : 'none';\n",
              "\n",
              "        async function convertToInteractive(key) {\n",
              "          const element = document.querySelector('#df-2ab1603b-ba64-4b40-9b22-59ca59b9b688');\n",
              "          const dataTable =\n",
              "            await google.colab.kernel.invokeFunction('convertToInteractive',\n",
              "                                                     [key], {});\n",
              "          if (!dataTable) return;\n",
              "\n",
              "          const docLinkHtml = 'Like what you see? Visit the ' +\n",
              "            '<a target=\"_blank\" href=https://colab.research.google.com/notebooks/data_table.ipynb>data table notebook</a>'\n",
              "            + ' to learn more about interactive tables.';\n",
              "          element.innerHTML = '';\n",
              "          dataTable['output_type'] = 'display_data';\n",
              "          await google.colab.output.renderOutput(dataTable, element);\n",
              "          const docLink = document.createElement('div');\n",
              "          docLink.innerHTML = docLinkHtml;\n",
              "          element.appendChild(docLink);\n",
              "        }\n",
              "      </script>\n",
              "    </div>\n",
              "  </div>\n",
              "  "
            ]
          },
          "metadata": {},
          "execution_count": 20
        }
      ]
    },
    {
      "cell_type": "code",
      "source": [
        "from statsmodels.tsa.api import VAR"
      ],
      "metadata": {
        "id": "56oFLDhlqLgA"
      },
      "execution_count": 21,
      "outputs": []
    },
    {
      "cell_type": "code",
      "source": [
        "model=VAR(train_dt1)"
      ],
      "metadata": {
        "colab": {
          "base_uri": "https://localhost:8080/"
        },
        "id": "yYOgR24xqXiX",
        "outputId": "25b87480-7f97-448f-fc3f-e25201626906"
      },
      "execution_count": 22,
      "outputs": [
        {
          "output_type": "stream",
          "name": "stderr",
          "text": [
            "/usr/local/lib/python3.7/dist-packages/statsmodels/tsa/base/tsa_model.py:165: ValueWarning: No frequency information was provided, so inferred frequency M will be used.\n",
            "  % freq, ValueWarning)\n"
          ]
        }
      ]
    },
    {
      "cell_type": "code",
      "source": [
        "result=model.select_order(maxlags=12)"
      ],
      "metadata": {
        "id": "0mpW7-hzqvcl"
      },
      "execution_count": 23,
      "outputs": []
    },
    {
      "cell_type": "code",
      "source": [
        "print(result.summary())"
      ],
      "metadata": {
        "colab": {
          "base_uri": "https://localhost:8080/"
        },
        "id": "l76TYXdDrCyC",
        "outputId": "a95aa4ea-9a68-4856-f472-8cc8c3e0c825"
      },
      "execution_count": 24,
      "outputs": [
        {
          "output_type": "stream",
          "name": "stdout",
          "text": [
            " VAR Order Selection (* highlights the minimums)  \n",
            "==================================================\n",
            "       AIC         BIC         FPE         HQIC   \n",
            "--------------------------------------------------\n",
            "0       -10.51      -10.46   2.725e-05      -10.49\n",
            "1       -10.97      -10.81   1.727e-05      -10.90\n",
            "2       -11.07      -10.81   1.552e-05      -10.97\n",
            "3       -11.31     -10.93*   1.226e-05      -11.16\n",
            "4       -11.30      -10.81   1.242e-05      -11.10\n",
            "5       -11.33      -10.74   1.202e-05      -11.09\n",
            "6       -11.44      -10.74   1.084e-05      -11.15\n",
            "7       -11.66      -10.86   8.655e-06      -11.34\n",
            "8       -11.71      -10.80   8.270e-06     -11.34*\n",
            "9       -11.74      -10.71   8.093e-06      -11.32\n",
            "10     -11.76*      -10.63  7.908e-06*      -11.31\n",
            "11      -11.68      -10.45   8.590e-06      -11.18\n",
            "12      -11.66      -10.32   8.832e-06      -11.12\n",
            "--------------------------------------------------\n"
          ]
        }
      ]
    },
    {
      "cell_type": "code",
      "source": [
        "from statsmodels.tsa.statespace.varmax import VARMAX"
      ],
      "metadata": {
        "id": "pOEXckx1sw0f"
      },
      "execution_count": 25,
      "outputs": []
    },
    {
      "cell_type": "code",
      "source": [
        "VARMAX_model=VARMAX(train_dt,order=(3,0),enforce_stationarity=False)"
      ],
      "metadata": {
        "colab": {
          "base_uri": "https://localhost:8080/"
        },
        "id": "PE6XBCxotDmc",
        "outputId": "39f61da8-bef0-4003-d748-9ecab63f8f86"
      },
      "execution_count": 26,
      "outputs": [
        {
          "output_type": "stream",
          "name": "stderr",
          "text": [
            "/usr/local/lib/python3.7/dist-packages/statsmodels/tsa/base/tsa_model.py:165: ValueWarning: No frequency information was provided, so inferred frequency M will be used.\n",
            "  % freq, ValueWarning)\n"
          ]
        }
      ]
    },
    {
      "cell_type": "code",
      "source": [
        "VARMAX_result=VARMAX_model.fit(disp=False)"
      ],
      "metadata": {
        "colab": {
          "base_uri": "https://localhost:8080/"
        },
        "id": "0jYWbmu_tsTL",
        "outputId": "b8b0b9d2-bd63-41aa-c4ab-77a1f01d82ee"
      },
      "execution_count": 27,
      "outputs": [
        {
          "output_type": "stream",
          "name": "stderr",
          "text": [
            "/usr/local/lib/python3.7/dist-packages/statsmodels/base/model.py:512: ConvergenceWarning: Maximum Likelihood optimization failed to converge. Check mle_retvals\n",
            "  \"Check mle_retvals\", ConvergenceWarning)\n"
          ]
        }
      ]
    },
    {
      "cell_type": "code",
      "source": [
        "print(VARMAX_result.summary())"
      ],
      "metadata": {
        "colab": {
          "base_uri": "https://localhost:8080/"
        },
        "id": "o3hu2FJ3t_4W",
        "outputId": "3e76d7ee-aea9-4b33-baa9-34a8803100f0"
      },
      "execution_count": 28,
      "outputs": [
        {
          "output_type": "stream",
          "name": "stdout",
          "text": [
            "                                Statespace Model Results                                \n",
            "========================================================================================\n",
            "Dep. Variable:     ['NIFTY_mr', 'KOTAKBANK_mr']   No. Observations:                  108\n",
            "Model:                                   VAR(3)   Log Likelihood                 347.304\n",
            "                                    + intercept   AIC                           -660.608\n",
            "Date:                          Thu, 26 May 2022   BIC                           -615.012\n",
            "Time:                                  11:00:19   HQIC                          -642.120\n",
            "Sample:                              06-30-2012                                         \n",
            "                                   - 05-31-2021                                         \n",
            "Covariance Type:                            opg                                         \n",
            "===================================================================================\n",
            "Ljung-Box (Q):                26.20, 23.92   Jarque-Bera (JB):         149.35, 2.36\n",
            "Prob(Q):                        0.95, 0.98   Prob(JB):                   0.00, 0.31\n",
            "Heteroskedasticity (H):         2.58, 1.55   Skew:                      -1.12, 0.34\n",
            "Prob(H) (two-sided):            0.01, 0.19   Kurtosis:                   8.31, 3.25\n",
            "                           Results for equation NIFTY_mr                           \n",
            "===================================================================================\n",
            "                      coef    std err          z      P>|z|      [0.025      0.975]\n",
            "-----------------------------------------------------------------------------------\n",
            "intercept           0.0138      0.006      2.211      0.027       0.002       0.026\n",
            "L1.NIFTY_mr        -0.1278      0.189     -0.677      0.498      -0.498       0.242\n",
            "L1.KOTAKBANK_mr     0.0484      0.121      0.401      0.688      -0.188       0.285\n",
            "L2.NIFTY_mr         0.0291      0.169      0.172      0.864      -0.302       0.360\n",
            "L2.KOTAKBANK_mr    -0.0602      0.101     -0.599      0.549      -0.257       0.137\n",
            "L3.NIFTY_mr         0.1047      0.175      0.600      0.549      -0.238       0.447\n",
            "L3.KOTAKBANK_mr    -0.0866      0.118     -0.734      0.463      -0.318       0.145\n",
            "                         Results for equation KOTAKBANK_mr                         \n",
            "===================================================================================\n",
            "                      coef    std err          z      P>|z|      [0.025      0.975]\n",
            "-----------------------------------------------------------------------------------\n",
            "intercept           0.0268      0.009      2.911      0.004       0.009       0.045\n",
            "L1.NIFTY_mr        -0.1198      0.244     -0.491      0.623      -0.598       0.358\n",
            "L1.KOTAKBANK_mr     0.0002      0.119      0.002      0.998      -0.232       0.233\n",
            "L2.NIFTY_mr         0.1506      0.194      0.775      0.438      -0.230       0.531\n",
            "L2.KOTAKBANK_mr    -0.1606      0.148     -1.088      0.277      -0.450       0.129\n",
            "L3.NIFTY_mr         0.2123      0.254      0.837      0.403      -0.285       0.709\n",
            "L3.KOTAKBANK_mr    -0.3123      0.156     -2.000      0.046      -0.618      -0.006\n",
            "                                     Error covariance matrix                                      \n",
            "==================================================================================================\n",
            "                                     coef    std err          z      P>|z|      [0.025      0.975]\n",
            "--------------------------------------------------------------------------------------------------\n",
            "sqrt.var.NIFTY_mr                  0.0479      0.002     19.280      0.000       0.043       0.053\n",
            "sqrt.cov.NIFTY_mr.KOTAKBANK_mr     0.0475      0.008      5.772      0.000       0.031       0.064\n",
            "sqrt.var.KOTAKBANK_mr              0.0490      0.004     11.968      0.000       0.041       0.057\n",
            "==================================================================================================\n",
            "\n",
            "Warnings:\n",
            "[1] Covariance matrix calculated using the outer product of gradients (complex-step).\n"
          ]
        }
      ]
    },
    {
      "cell_type": "code",
      "source": [
        "n_forecast=12\n",
        "predict=VARMAX_result.get_prediction(start=len(train_dt),end=len(train_dt)+n_forecast-1)"
      ],
      "metadata": {
        "id": "naPUGodNu2d7"
      },
      "execution_count": 29,
      "outputs": []
    },
    {
      "cell_type": "code",
      "source": [
        "predictions=predict.predicted_mean"
      ],
      "metadata": {
        "id": "PPDr7c9fvi8N"
      },
      "execution_count": 30,
      "outputs": []
    },
    {
      "cell_type": "code",
      "source": [
        "predictions.columns=[['NIFTY_mr_Predicted','KOTAKBANK_mr_Predicted']]\n",
        "predictions"
      ],
      "metadata": {
        "colab": {
          "base_uri": "https://localhost:8080/",
          "height": 426
        },
        "id": "bBDqgua8wAkJ",
        "outputId": "991a8d24-7cfc-42a7-ab8e-bc3db7ed6c2b"
      },
      "execution_count": 31,
      "outputs": [
        {
          "output_type": "execute_result",
          "data": {
            "text/plain": [
              "           NIFTY_mr_Predicted KOTAKBANK_mr_Predicted\n",
              "2021-06-30           0.009681               0.025974\n",
              "2021-07-31           0.013508               0.029945\n",
              "2021-08-31           0.016178               0.025789\n",
              "2021-09-30           0.010377               0.016062\n",
              "2021-10-31           0.011032               0.017396\n",
              "2021-11-30           0.012070               0.019871\n",
              "2021-12-31           0.012231               0.021439\n",
              "2022-01-31           0.012120               0.020901\n",
              "2022-02-28           0.011913               0.020134\n",
              "2022-03-31           0.011813               0.019773\n",
              "2022-04-30           0.011883               0.020021\n",
              "2022-05-31           0.011950               0.020251"
            ],
            "text/html": [
              "\n",
              "  <div id=\"df-15d89cf2-c3cf-4d54-8d0d-1342e74828d4\">\n",
              "    <div class=\"colab-df-container\">\n",
              "      <div>\n",
              "<style scoped>\n",
              "    .dataframe tbody tr th:only-of-type {\n",
              "        vertical-align: middle;\n",
              "    }\n",
              "\n",
              "    .dataframe tbody tr th {\n",
              "        vertical-align: top;\n",
              "    }\n",
              "\n",
              "    .dataframe thead tr th {\n",
              "        text-align: left;\n",
              "    }\n",
              "</style>\n",
              "<table border=\"1\" class=\"dataframe\">\n",
              "  <thead>\n",
              "    <tr>\n",
              "      <th></th>\n",
              "      <th>NIFTY_mr_Predicted</th>\n",
              "      <th>KOTAKBANK_mr_Predicted</th>\n",
              "    </tr>\n",
              "  </thead>\n",
              "  <tbody>\n",
              "    <tr>\n",
              "      <th>2021-06-30</th>\n",
              "      <td>0.009681</td>\n",
              "      <td>0.025974</td>\n",
              "    </tr>\n",
              "    <tr>\n",
              "      <th>2021-07-31</th>\n",
              "      <td>0.013508</td>\n",
              "      <td>0.029945</td>\n",
              "    </tr>\n",
              "    <tr>\n",
              "      <th>2021-08-31</th>\n",
              "      <td>0.016178</td>\n",
              "      <td>0.025789</td>\n",
              "    </tr>\n",
              "    <tr>\n",
              "      <th>2021-09-30</th>\n",
              "      <td>0.010377</td>\n",
              "      <td>0.016062</td>\n",
              "    </tr>\n",
              "    <tr>\n",
              "      <th>2021-10-31</th>\n",
              "      <td>0.011032</td>\n",
              "      <td>0.017396</td>\n",
              "    </tr>\n",
              "    <tr>\n",
              "      <th>2021-11-30</th>\n",
              "      <td>0.012070</td>\n",
              "      <td>0.019871</td>\n",
              "    </tr>\n",
              "    <tr>\n",
              "      <th>2021-12-31</th>\n",
              "      <td>0.012231</td>\n",
              "      <td>0.021439</td>\n",
              "    </tr>\n",
              "    <tr>\n",
              "      <th>2022-01-31</th>\n",
              "      <td>0.012120</td>\n",
              "      <td>0.020901</td>\n",
              "    </tr>\n",
              "    <tr>\n",
              "      <th>2022-02-28</th>\n",
              "      <td>0.011913</td>\n",
              "      <td>0.020134</td>\n",
              "    </tr>\n",
              "    <tr>\n",
              "      <th>2022-03-31</th>\n",
              "      <td>0.011813</td>\n",
              "      <td>0.019773</td>\n",
              "    </tr>\n",
              "    <tr>\n",
              "      <th>2022-04-30</th>\n",
              "      <td>0.011883</td>\n",
              "      <td>0.020021</td>\n",
              "    </tr>\n",
              "    <tr>\n",
              "      <th>2022-05-31</th>\n",
              "      <td>0.011950</td>\n",
              "      <td>0.020251</td>\n",
              "    </tr>\n",
              "  </tbody>\n",
              "</table>\n",
              "</div>\n",
              "      <button class=\"colab-df-convert\" onclick=\"convertToInteractive('df-15d89cf2-c3cf-4d54-8d0d-1342e74828d4')\"\n",
              "              title=\"Convert this dataframe to an interactive table.\"\n",
              "              style=\"display:none;\">\n",
              "        \n",
              "  <svg xmlns=\"http://www.w3.org/2000/svg\" height=\"24px\"viewBox=\"0 0 24 24\"\n",
              "       width=\"24px\">\n",
              "    <path d=\"M0 0h24v24H0V0z\" fill=\"none\"/>\n",
              "    <path d=\"M18.56 5.44l.94 2.06.94-2.06 2.06-.94-2.06-.94-.94-2.06-.94 2.06-2.06.94zm-11 1L8.5 8.5l.94-2.06 2.06-.94-2.06-.94L8.5 2.5l-.94 2.06-2.06.94zm10 10l.94 2.06.94-2.06 2.06-.94-2.06-.94-.94-2.06-.94 2.06-2.06.94z\"/><path d=\"M17.41 7.96l-1.37-1.37c-.4-.4-.92-.59-1.43-.59-.52 0-1.04.2-1.43.59L10.3 9.45l-7.72 7.72c-.78.78-.78 2.05 0 2.83L4 21.41c.39.39.9.59 1.41.59.51 0 1.02-.2 1.41-.59l7.78-7.78 2.81-2.81c.8-.78.8-2.07 0-2.86zM5.41 20L4 18.59l7.72-7.72 1.47 1.35L5.41 20z\"/>\n",
              "  </svg>\n",
              "      </button>\n",
              "      \n",
              "  <style>\n",
              "    .colab-df-container {\n",
              "      display:flex;\n",
              "      flex-wrap:wrap;\n",
              "      gap: 12px;\n",
              "    }\n",
              "\n",
              "    .colab-df-convert {\n",
              "      background-color: #E8F0FE;\n",
              "      border: none;\n",
              "      border-radius: 50%;\n",
              "      cursor: pointer;\n",
              "      display: none;\n",
              "      fill: #1967D2;\n",
              "      height: 32px;\n",
              "      padding: 0 0 0 0;\n",
              "      width: 32px;\n",
              "    }\n",
              "\n",
              "    .colab-df-convert:hover {\n",
              "      background-color: #E2EBFA;\n",
              "      box-shadow: 0px 1px 2px rgba(60, 64, 67, 0.3), 0px 1px 3px 1px rgba(60, 64, 67, 0.15);\n",
              "      fill: #174EA6;\n",
              "    }\n",
              "\n",
              "    [theme=dark] .colab-df-convert {\n",
              "      background-color: #3B4455;\n",
              "      fill: #D2E3FC;\n",
              "    }\n",
              "\n",
              "    [theme=dark] .colab-df-convert:hover {\n",
              "      background-color: #434B5C;\n",
              "      box-shadow: 0px 1px 3px 1px rgba(0, 0, 0, 0.15);\n",
              "      filter: drop-shadow(0px 1px 2px rgba(0, 0, 0, 0.3));\n",
              "      fill: #FFFFFF;\n",
              "    }\n",
              "  </style>\n",
              "\n",
              "      <script>\n",
              "        const buttonEl =\n",
              "          document.querySelector('#df-15d89cf2-c3cf-4d54-8d0d-1342e74828d4 button.colab-df-convert');\n",
              "        buttonEl.style.display =\n",
              "          google.colab.kernel.accessAllowed ? 'block' : 'none';\n",
              "\n",
              "        async function convertToInteractive(key) {\n",
              "          const element = document.querySelector('#df-15d89cf2-c3cf-4d54-8d0d-1342e74828d4');\n",
              "          const dataTable =\n",
              "            await google.colab.kernel.invokeFunction('convertToInteractive',\n",
              "                                                     [key], {});\n",
              "          if (!dataTable) return;\n",
              "\n",
              "          const docLinkHtml = 'Like what you see? Visit the ' +\n",
              "            '<a target=\"_blank\" href=https://colab.research.google.com/notebooks/data_table.ipynb>data table notebook</a>'\n",
              "            + ' to learn more about interactive tables.';\n",
              "          element.innerHTML = '';\n",
              "          dataTable['output_type'] = 'display_data';\n",
              "          await google.colab.output.renderOutput(dataTable, element);\n",
              "          const docLink = document.createElement('div');\n",
              "          docLink.innerHTML = docLinkHtml;\n",
              "          element.appendChild(docLink);\n",
              "        }\n",
              "      </script>\n",
              "    </div>\n",
              "  </div>\n",
              "  "
            ]
          },
          "metadata": {},
          "execution_count": 31
        }
      ]
    },
    {
      "cell_type": "code",
      "source": [
        "test_dt"
      ],
      "metadata": {
        "colab": {
          "base_uri": "https://localhost:8080/",
          "height": 457
        },
        "id": "F58RAloiwy_u",
        "outputId": "4353df19-807f-474b-b4c4-f8c0342ac683"
      },
      "execution_count": 32,
      "outputs": [
        {
          "output_type": "execute_result",
          "data": {
            "text/plain": [
              "            NIFTY_mr  KOTAKBANK_mr\n",
              "Date                              \n",
              "2021-06-30  0.008901     -0.056342\n",
              "2021-07-31  0.002643     -0.029926\n",
              "2021-08-31  0.086858      0.060292\n",
              "2021-09-30  0.028365      0.143582\n",
              "2021-10-31  0.003037      0.012790\n",
              "2021-11-30 -0.038958     -0.034094\n",
              "2021-12-31  0.021836     -0.084510\n",
              "2022-01-31 -0.000818      0.034046\n",
              "2022-02-28 -0.031485     -0.007807\n",
              "2022-03-31  0.039946     -0.048243\n",
              "2022-04-30 -0.020739      0.021039\n",
              "2022-05-31 -0.054518      0.065838"
            ],
            "text/html": [
              "\n",
              "  <div id=\"df-46d8f3d8-694b-47d5-aa72-d63589f4a904\">\n",
              "    <div class=\"colab-df-container\">\n",
              "      <div>\n",
              "<style scoped>\n",
              "    .dataframe tbody tr th:only-of-type {\n",
              "        vertical-align: middle;\n",
              "    }\n",
              "\n",
              "    .dataframe tbody tr th {\n",
              "        vertical-align: top;\n",
              "    }\n",
              "\n",
              "    .dataframe thead th {\n",
              "        text-align: right;\n",
              "    }\n",
              "</style>\n",
              "<table border=\"1\" class=\"dataframe\">\n",
              "  <thead>\n",
              "    <tr style=\"text-align: right;\">\n",
              "      <th></th>\n",
              "      <th>NIFTY_mr</th>\n",
              "      <th>KOTAKBANK_mr</th>\n",
              "    </tr>\n",
              "    <tr>\n",
              "      <th>Date</th>\n",
              "      <th></th>\n",
              "      <th></th>\n",
              "    </tr>\n",
              "  </thead>\n",
              "  <tbody>\n",
              "    <tr>\n",
              "      <th>2021-06-30</th>\n",
              "      <td>0.008901</td>\n",
              "      <td>-0.056342</td>\n",
              "    </tr>\n",
              "    <tr>\n",
              "      <th>2021-07-31</th>\n",
              "      <td>0.002643</td>\n",
              "      <td>-0.029926</td>\n",
              "    </tr>\n",
              "    <tr>\n",
              "      <th>2021-08-31</th>\n",
              "      <td>0.086858</td>\n",
              "      <td>0.060292</td>\n",
              "    </tr>\n",
              "    <tr>\n",
              "      <th>2021-09-30</th>\n",
              "      <td>0.028365</td>\n",
              "      <td>0.143582</td>\n",
              "    </tr>\n",
              "    <tr>\n",
              "      <th>2021-10-31</th>\n",
              "      <td>0.003037</td>\n",
              "      <td>0.012790</td>\n",
              "    </tr>\n",
              "    <tr>\n",
              "      <th>2021-11-30</th>\n",
              "      <td>-0.038958</td>\n",
              "      <td>-0.034094</td>\n",
              "    </tr>\n",
              "    <tr>\n",
              "      <th>2021-12-31</th>\n",
              "      <td>0.021836</td>\n",
              "      <td>-0.084510</td>\n",
              "    </tr>\n",
              "    <tr>\n",
              "      <th>2022-01-31</th>\n",
              "      <td>-0.000818</td>\n",
              "      <td>0.034046</td>\n",
              "    </tr>\n",
              "    <tr>\n",
              "      <th>2022-02-28</th>\n",
              "      <td>-0.031485</td>\n",
              "      <td>-0.007807</td>\n",
              "    </tr>\n",
              "    <tr>\n",
              "      <th>2022-03-31</th>\n",
              "      <td>0.039946</td>\n",
              "      <td>-0.048243</td>\n",
              "    </tr>\n",
              "    <tr>\n",
              "      <th>2022-04-30</th>\n",
              "      <td>-0.020739</td>\n",
              "      <td>0.021039</td>\n",
              "    </tr>\n",
              "    <tr>\n",
              "      <th>2022-05-31</th>\n",
              "      <td>-0.054518</td>\n",
              "      <td>0.065838</td>\n",
              "    </tr>\n",
              "  </tbody>\n",
              "</table>\n",
              "</div>\n",
              "      <button class=\"colab-df-convert\" onclick=\"convertToInteractive('df-46d8f3d8-694b-47d5-aa72-d63589f4a904')\"\n",
              "              title=\"Convert this dataframe to an interactive table.\"\n",
              "              style=\"display:none;\">\n",
              "        \n",
              "  <svg xmlns=\"http://www.w3.org/2000/svg\" height=\"24px\"viewBox=\"0 0 24 24\"\n",
              "       width=\"24px\">\n",
              "    <path d=\"M0 0h24v24H0V0z\" fill=\"none\"/>\n",
              "    <path d=\"M18.56 5.44l.94 2.06.94-2.06 2.06-.94-2.06-.94-.94-2.06-.94 2.06-2.06.94zm-11 1L8.5 8.5l.94-2.06 2.06-.94-2.06-.94L8.5 2.5l-.94 2.06-2.06.94zm10 10l.94 2.06.94-2.06 2.06-.94-2.06-.94-.94-2.06-.94 2.06-2.06.94z\"/><path d=\"M17.41 7.96l-1.37-1.37c-.4-.4-.92-.59-1.43-.59-.52 0-1.04.2-1.43.59L10.3 9.45l-7.72 7.72c-.78.78-.78 2.05 0 2.83L4 21.41c.39.39.9.59 1.41.59.51 0 1.02-.2 1.41-.59l7.78-7.78 2.81-2.81c.8-.78.8-2.07 0-2.86zM5.41 20L4 18.59l7.72-7.72 1.47 1.35L5.41 20z\"/>\n",
              "  </svg>\n",
              "      </button>\n",
              "      \n",
              "  <style>\n",
              "    .colab-df-container {\n",
              "      display:flex;\n",
              "      flex-wrap:wrap;\n",
              "      gap: 12px;\n",
              "    }\n",
              "\n",
              "    .colab-df-convert {\n",
              "      background-color: #E8F0FE;\n",
              "      border: none;\n",
              "      border-radius: 50%;\n",
              "      cursor: pointer;\n",
              "      display: none;\n",
              "      fill: #1967D2;\n",
              "      height: 32px;\n",
              "      padding: 0 0 0 0;\n",
              "      width: 32px;\n",
              "    }\n",
              "\n",
              "    .colab-df-convert:hover {\n",
              "      background-color: #E2EBFA;\n",
              "      box-shadow: 0px 1px 2px rgba(60, 64, 67, 0.3), 0px 1px 3px 1px rgba(60, 64, 67, 0.15);\n",
              "      fill: #174EA6;\n",
              "    }\n",
              "\n",
              "    [theme=dark] .colab-df-convert {\n",
              "      background-color: #3B4455;\n",
              "      fill: #D2E3FC;\n",
              "    }\n",
              "\n",
              "    [theme=dark] .colab-df-convert:hover {\n",
              "      background-color: #434B5C;\n",
              "      box-shadow: 0px 1px 3px 1px rgba(0, 0, 0, 0.15);\n",
              "      filter: drop-shadow(0px 1px 2px rgba(0, 0, 0, 0.3));\n",
              "      fill: #FFFFFF;\n",
              "    }\n",
              "  </style>\n",
              "\n",
              "      <script>\n",
              "        const buttonEl =\n",
              "          document.querySelector('#df-46d8f3d8-694b-47d5-aa72-d63589f4a904 button.colab-df-convert');\n",
              "        buttonEl.style.display =\n",
              "          google.colab.kernel.accessAllowed ? 'block' : 'none';\n",
              "\n",
              "        async function convertToInteractive(key) {\n",
              "          const element = document.querySelector('#df-46d8f3d8-694b-47d5-aa72-d63589f4a904');\n",
              "          const dataTable =\n",
              "            await google.colab.kernel.invokeFunction('convertToInteractive',\n",
              "                                                     [key], {});\n",
              "          if (!dataTable) return;\n",
              "\n",
              "          const docLinkHtml = 'Like what you see? Visit the ' +\n",
              "            '<a target=\"_blank\" href=https://colab.research.google.com/notebooks/data_table.ipynb>data table notebook</a>'\n",
              "            + ' to learn more about interactive tables.';\n",
              "          element.innerHTML = '';\n",
              "          dataTable['output_type'] = 'display_data';\n",
              "          await google.colab.output.renderOutput(dataTable, element);\n",
              "          const docLink = document.createElement('div');\n",
              "          docLink.innerHTML = docLinkHtml;\n",
              "          element.appendChild(docLink);\n",
              "        }\n",
              "      </script>\n",
              "    </div>\n",
              "  </div>\n",
              "  "
            ]
          },
          "metadata": {},
          "execution_count": 32
        }
      ]
    },
    {
      "cell_type": "code",
      "source": [
        "TvP=pd.concat([test_dt,predictions],axis=1)"
      ],
      "metadata": {
        "id": "nBzvuacyw-5d"
      },
      "execution_count": 33,
      "outputs": []
    },
    {
      "cell_type": "code",
      "source": [
        "TvP.plot(figsize=(10,4))"
      ],
      "metadata": {
        "colab": {
          "base_uri": "https://localhost:8080/",
          "height": 294
        },
        "id": "AHVzGvw9xa4s",
        "outputId": "efa6051d-f040-4919-f680-80a86966e583"
      },
      "execution_count": 34,
      "outputs": [
        {
          "output_type": "execute_result",
          "data": {
            "text/plain": [
              "<matplotlib.axes._subplots.AxesSubplot at 0x7f8de1b0e790>"
            ]
          },
          "metadata": {},
          "execution_count": 34
        },
        {
          "output_type": "display_data",
          "data": {
            "text/plain": [
              "<Figure size 720x288 with 1 Axes>"
            ],
            "image/png": "[encoded data removed]"
          },
          "metadata": {
            "needs_background": "light"
          }
        }
      ]
    }
  ]
}